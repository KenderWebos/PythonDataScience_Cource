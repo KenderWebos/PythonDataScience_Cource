{
 "cells": [
  {
   "cell_type": "markdown",
   "metadata": {},
   "source": [
    "# TAREA 3 VISUALIZACION DE DATOS CON PYTHON\n",
    "\n",
    "## Introducción\n",
    "\n",
    "El objetivo es generar maneras intuitivas de visualizar los datos **importantes** de la base de datos que trabajamos anteriormente en la tarea 2, en nuestro caso es sobre analisis de ingresos anuales segun sus caracteristicas en el senso.\n",
    "\n",
    "Para este proceso tenemos la siguiente manera de visualizar los datos:\n",
    "\n",
    "- GRAFICO DE LINEA\n",
    "- GRAFICO DE AREA [APILABLE, NO APILABLE]\n",
    "- GRAFICO DE BARRA [HORIZONTAL, VERTICAL]\n",
    "- GRAFICO DE HISTOGRAMA\n",
    "- GRAFICO DE CIRCULO O TORTA\n",
    "- GRAFICO DE CAJA O CAJA Y BIGOTE\n",
    "- GRAFICO DE DISPERSION [2D]\n",
    "- GRAFICO DE BURBUJA [3D]\n",
    "- GRAFICO DE WAFFLE [NO FAIRE, TRADAJDAD]\n",
    "- GRAFICO DE NUBE DE PALABRAS [WORD_CLOUD]\n",
    "- GRAFICO DE DISPERSION (SEABORN)\n",
    "- MAPAS (FOLLIO)\n",
    "\n",
    "\n",
    "**Nota**: utilizaremos 5 maneras de representar la informacion mas importante sobre este analisis, utilizaremos las librerias **numpy**, **pandas**, **seaborn**, **matplotlib**, **openpyxl**.\n",
    "\n",
    "***"
   ]
  },
  {
   "cell_type": "markdown",
   "metadata": {},
   "source": [
    "## importamos las librerias en python"
   ]
  },
  {
   "cell_type": "code",
   "execution_count": 1,
   "metadata": {},
   "outputs": [],
   "source": [
    "%matplotlib inline\n",
    "\n",
    "import numpy as np\n",
    "import pandas as pd\n",
    "import seaborn as sns\n",
    "import matplotlib as mpl\n",
    "import matplotlib.pyplot as plt\n",
    "import openpyxl as xl"
   ]
  },
  {
   "cell_type": "markdown",
   "metadata": {},
   "source": [
    "## leemos la base de datos que previamente preparamos."
   ]
  },
  {
   "cell_type": "code",
   "execution_count": 2,
   "metadata": {},
   "outputs": [],
   "source": [
    "df = pd.read_csv('../dataframe/df_procesado.csv')"
   ]
  },
  {
   "cell_type": "markdown",
   "metadata": {},
   "source": [
    "## Usamos las funciones head tail info y describe para tener una idea general de los datos."
   ]
  },
  {
   "cell_type": "code",
   "execution_count": 3,
   "metadata": {},
   "outputs": [
    {
     "data": {
      "text/html": [
       "<div>\n",
       "<style scoped>\n",
       "    .dataframe tbody tr th:only-of-type {\n",
       "        vertical-align: middle;\n",
       "    }\n",
       "\n",
       "    .dataframe tbody tr th {\n",
       "        vertical-align: top;\n",
       "    }\n",
       "\n",
       "    .dataframe thead th {\n",
       "        text-align: right;\n",
       "    }\n",
       "</style>\n",
       "<table border=\"1\" class=\"dataframe\">\n",
       "  <thead>\n",
       "    <tr style=\"text-align: right;\">\n",
       "      <th></th>\n",
       "      <th>Unnamed: 0</th>\n",
       "      <th>age</th>\n",
       "      <th>workclass</th>\n",
       "      <th>representation-by-Census</th>\n",
       "      <th>education</th>\n",
       "      <th>education-num</th>\n",
       "      <th>marital-status</th>\n",
       "      <th>occupation</th>\n",
       "      <th>relationship</th>\n",
       "      <th>race</th>\n",
       "      <th>sex</th>\n",
       "      <th>capital-gain</th>\n",
       "      <th>capital-loss</th>\n",
       "      <th>hours-per-week</th>\n",
       "      <th>native-country</th>\n",
       "      <th>education-num-binned</th>\n",
       "      <th>&lt;=50K</th>\n",
       "      <th>&gt;50K</th>\n",
       "    </tr>\n",
       "  </thead>\n",
       "  <tbody>\n",
       "    <tr>\n",
       "      <th>0</th>\n",
       "      <td>0</td>\n",
       "      <td>39.0</td>\n",
       "      <td>State-gov</td>\n",
       "      <td>0.052210</td>\n",
       "      <td>Bachelors</td>\n",
       "      <td>13</td>\n",
       "      <td>Never-married</td>\n",
       "      <td>Adm-clerical</td>\n",
       "      <td>Not-in-family</td>\n",
       "      <td>White</td>\n",
       "      <td>Male</td>\n",
       "      <td>2174</td>\n",
       "      <td>0</td>\n",
       "      <td>40</td>\n",
       "      <td>United-States</td>\n",
       "      <td>Superior</td>\n",
       "      <td>1</td>\n",
       "      <td>0</td>\n",
       "    </tr>\n",
       "    <tr>\n",
       "      <th>1</th>\n",
       "      <td>1</td>\n",
       "      <td>50.0</td>\n",
       "      <td>Self-emp-not-inc</td>\n",
       "      <td>0.056113</td>\n",
       "      <td>Bachelors</td>\n",
       "      <td>13</td>\n",
       "      <td>Married-civ-spouse</td>\n",
       "      <td>Exec-managerial</td>\n",
       "      <td>Husband</td>\n",
       "      <td>White</td>\n",
       "      <td>Male</td>\n",
       "      <td>0</td>\n",
       "      <td>0</td>\n",
       "      <td>13</td>\n",
       "      <td>United-States</td>\n",
       "      <td>Superior</td>\n",
       "      <td>1</td>\n",
       "      <td>0</td>\n",
       "    </tr>\n",
       "    <tr>\n",
       "      <th>2</th>\n",
       "      <td>2</td>\n",
       "      <td>38.0</td>\n",
       "      <td>Private</td>\n",
       "      <td>0.145245</td>\n",
       "      <td>HS-grad</td>\n",
       "      <td>9</td>\n",
       "      <td>Divorced</td>\n",
       "      <td>Handlers-cleaners</td>\n",
       "      <td>Not-in-family</td>\n",
       "      <td>White</td>\n",
       "      <td>Male</td>\n",
       "      <td>0</td>\n",
       "      <td>0</td>\n",
       "      <td>40</td>\n",
       "      <td>United-States</td>\n",
       "      <td>Media</td>\n",
       "      <td>1</td>\n",
       "      <td>0</td>\n",
       "    </tr>\n",
       "    <tr>\n",
       "      <th>3</th>\n",
       "      <td>3</td>\n",
       "      <td>53.0</td>\n",
       "      <td>Private</td>\n",
       "      <td>0.158093</td>\n",
       "      <td>11th</td>\n",
       "      <td>7</td>\n",
       "      <td>Married-civ-spouse</td>\n",
       "      <td>Handlers-cleaners</td>\n",
       "      <td>Husband</td>\n",
       "      <td>Black</td>\n",
       "      <td>Male</td>\n",
       "      <td>0</td>\n",
       "      <td>0</td>\n",
       "      <td>40</td>\n",
       "      <td>United-States</td>\n",
       "      <td>Media</td>\n",
       "      <td>1</td>\n",
       "      <td>0</td>\n",
       "    </tr>\n",
       "    <tr>\n",
       "      <th>4</th>\n",
       "      <td>4</td>\n",
       "      <td>28.0</td>\n",
       "      <td>Private</td>\n",
       "      <td>0.227930</td>\n",
       "      <td>Bachelors</td>\n",
       "      <td>13</td>\n",
       "      <td>Married-civ-spouse</td>\n",
       "      <td>Prof-specialty</td>\n",
       "      <td>Wife</td>\n",
       "      <td>Black</td>\n",
       "      <td>Female</td>\n",
       "      <td>0</td>\n",
       "      <td>0</td>\n",
       "      <td>40</td>\n",
       "      <td>Cuba</td>\n",
       "      <td>Superior</td>\n",
       "      <td>1</td>\n",
       "      <td>0</td>\n",
       "    </tr>\n",
       "  </tbody>\n",
       "</table>\n",
       "</div>"
      ],
      "text/plain": [
       "   Unnamed: 0   age         workclass  representation-by-Census  education  \\\n",
       "0           0  39.0         State-gov                  0.052210  Bachelors   \n",
       "1           1  50.0  Self-emp-not-inc                  0.056113  Bachelors   \n",
       "2           2  38.0           Private                  0.145245    HS-grad   \n",
       "3           3  53.0           Private                  0.158093       11th   \n",
       "4           4  28.0           Private                  0.227930  Bachelors   \n",
       "\n",
       "   education-num      marital-status         occupation   relationship   race  \\\n",
       "0             13       Never-married       Adm-clerical  Not-in-family  White   \n",
       "1             13  Married-civ-spouse    Exec-managerial        Husband  White   \n",
       "2              9            Divorced  Handlers-cleaners  Not-in-family  White   \n",
       "3              7  Married-civ-spouse  Handlers-cleaners        Husband  Black   \n",
       "4             13  Married-civ-spouse     Prof-specialty           Wife  Black   \n",
       "\n",
       "      sex  capital-gain  capital-loss  hours-per-week native-country  \\\n",
       "0    Male          2174             0              40  United-States   \n",
       "1    Male             0             0              13  United-States   \n",
       "2    Male             0             0              40  United-States   \n",
       "3    Male             0             0              40  United-States   \n",
       "4  Female             0             0              40           Cuba   \n",
       "\n",
       "  education-num-binned  <=50K  >50K  \n",
       "0             Superior      1     0  \n",
       "1             Superior      1     0  \n",
       "2                Media      1     0  \n",
       "3                Media      1     0  \n",
       "4             Superior      1     0  "
      ]
     },
     "execution_count": 3,
     "metadata": {},
     "output_type": "execute_result"
    }
   ],
   "source": [
    "df.head()"
   ]
  },
  {
   "cell_type": "code",
   "execution_count": 4,
   "metadata": {},
   "outputs": [
    {
     "name": "stdout",
     "output_type": "stream",
     "text": [
      "   Unnamed: 0   age         workclass  representation-by-Census  education  \\\n",
      "0           0  39.0         State-gov                  0.052210  Bachelors   \n",
      "1           1  50.0  Self-emp-not-inc                  0.056113  Bachelors   \n",
      "2           2  38.0           Private                  0.145245    HS-grad   \n",
      "3           3  53.0           Private                  0.158093       11th   \n",
      "4           4  28.0           Private                  0.227930  Bachelors   \n",
      "\n",
      "   education-num      marital-status         occupation   relationship   race  \\\n",
      "0             13       Never-married       Adm-clerical  Not-in-family  White   \n",
      "1             13  Married-civ-spouse    Exec-managerial        Husband  White   \n",
      "2              9            Divorced  Handlers-cleaners  Not-in-family  White   \n",
      "3              7  Married-civ-spouse  Handlers-cleaners        Husband  Black   \n",
      "4             13  Married-civ-spouse     Prof-specialty           Wife  Black   \n",
      "\n",
      "      sex  capital-gain  capital-loss  hours-per-week native-country  \\\n",
      "0    Male          2174             0              40  United-States   \n",
      "1    Male             0             0              13  United-States   \n",
      "2    Male             0             0              40  United-States   \n",
      "3    Male             0             0              40  United-States   \n",
      "4  Female             0             0              40           Cuba   \n",
      "\n",
      "  education-num-binned  <=50K  >50K  \n",
      "0             Superior      1     0  \n",
      "1             Superior      1     0  \n",
      "2                Media      1     0  \n",
      "3                Media      1     0  \n",
      "4             Superior      1     0  \n",
      "       Unnamed: 0   age     workclass  representation-by-Census   education  \\\n",
      "32542       32556  27.0       Private                  0.173302  Assoc-acdm   \n",
      "32543       32557  40.0       Private                  0.103976     HS-grad   \n",
      "32544       32558  58.0       Private                  0.102317     HS-grad   \n",
      "32545       32559  22.0       Private                  0.135710     HS-grad   \n",
      "32546       32560  52.0  Self-emp-inc                  0.193929     HS-grad   \n",
      "\n",
      "       education-num      marital-status         occupation relationship  \\\n",
      "32542             12  Married-civ-spouse       Tech-support         Wife   \n",
      "32543              9  Married-civ-spouse  Machine-op-inspct      Husband   \n",
      "32544              9             Widowed       Adm-clerical    Unmarried   \n",
      "32545              9       Never-married       Adm-clerical    Own-child   \n",
      "32546              9  Married-civ-spouse    Exec-managerial         Wife   \n",
      "\n",
      "        race     sex  capital-gain  capital-loss  hours-per-week  \\\n",
      "32542  White  Female             0             0              38   \n",
      "32543  White    Male             0             0              40   \n",
      "32544  White  Female             0             0              40   \n",
      "32545  White    Male             0             0              20   \n",
      "32546  White  Female         15024             0              40   \n",
      "\n",
      "      native-country education-num-binned  <=50K  >50K  \n",
      "32542  United-States             Superior      1     0  \n",
      "32543  United-States                Media      0     1  \n",
      "32544  United-States                Media      1     0  \n",
      "32545  United-States                Media      1     0  \n",
      "32546  United-States                Media      0     1  \n",
      "<class 'pandas.core.frame.DataFrame'>\n",
      "RangeIndex: 32547 entries, 0 to 32546\n",
      "Data columns (total 18 columns):\n",
      " #   Column                    Non-Null Count  Dtype  \n",
      "---  ------                    --------------  -----  \n",
      " 0   Unnamed: 0                32547 non-null  int64  \n",
      " 1   age                       32547 non-null  float64\n",
      " 2   workclass                 32547 non-null  object \n",
      " 3   representation-by-Census  32547 non-null  float64\n",
      " 4   education                 32547 non-null  object \n",
      " 5   education-num             32547 non-null  int64  \n",
      " 6   marital-status            32547 non-null  object \n",
      " 7   occupation                32547 non-null  object \n",
      " 8   relationship              32547 non-null  object \n",
      " 9   race                      32547 non-null  object \n",
      " 10  sex                       32547 non-null  object \n",
      " 11  capital-gain              32547 non-null  int64  \n",
      " 12  capital-loss              32547 non-null  int64  \n",
      " 13  hours-per-week            32547 non-null  int64  \n",
      " 14  native-country            32547 non-null  object \n",
      " 15  education-num-binned      32547 non-null  object \n",
      " 16  <=50K                     32547 non-null  int64  \n",
      " 17  >50K                      32547 non-null  int64  \n",
      "dtypes: float64(2), int64(7), object(9)\n",
      "memory usage: 4.5+ MB\n",
      "None\n",
      "         Unnamed: 0           age  representation-by-Census  education-num  \\\n",
      "count  32547.000000  32547.000000              32547.000000   32547.000000   \n",
      "mean   16285.115034     38.581129                  0.127820      10.080868   \n",
      "std     9398.472313     13.641102                  0.071100       2.572785   \n",
      "min        0.000000     17.000000                  0.008274       1.000000   \n",
      "25%     8150.500000     28.000000                  0.079352       9.000000   \n",
      "50%    16287.000000     37.000000                  0.120127      10.000000   \n",
      "75%    24423.500000     48.000000                  0.159660      12.000000   \n",
      "max    32560.000000     90.000000                  1.000000      16.000000   \n",
      "\n",
      "       capital-gain  capital-loss  hours-per-week         <=50K          >50K  \n",
      "count  32547.000000  32547.000000    32547.000000  32547.000000  32547.000000  \n",
      "mean    1078.112391     87.341383       40.436937      0.759240      0.240760  \n",
      "std     7386.846516    403.042809       12.349497      0.427551      0.427551  \n",
      "min        0.000000      0.000000        1.000000      0.000000      0.000000  \n",
      "25%        0.000000      0.000000       40.000000      1.000000      0.000000  \n",
      "50%        0.000000      0.000000       40.000000      1.000000      0.000000  \n",
      "75%        0.000000      0.000000       45.000000      1.000000      0.000000  \n",
      "max    99999.000000   4356.000000       99.000000      1.000000      1.000000  \n"
     ]
    }
   ],
   "source": [
    "print(df.head())\n",
    "print(df.tail())\n",
    "print(df.info())\n",
    "print(df.describe())"
   ]
  },
  {
   "cell_type": "markdown",
   "metadata": {},
   "source": [
    "## Seleccionamos el estilo que queremos para lo graficos con la libreria mpl"
   ]
  },
  {
   "cell_type": "code",
   "execution_count": 5,
   "metadata": {},
   "outputs": [
    {
     "name": "stdout",
     "output_type": "stream",
     "text": [
      "['Solarize_Light2', '_classic_test_patch', '_mpl-gallery', '_mpl-gallery-nogrid', 'bmh', 'classic', 'dark_background', 'fast', 'fivethirtyeight', 'ggplot', 'grayscale', 'seaborn', 'seaborn-bright', 'seaborn-colorblind', 'seaborn-dark', 'seaborn-dark-palette', 'seaborn-darkgrid', 'seaborn-deep', 'seaborn-muted', 'seaborn-notebook', 'seaborn-paper', 'seaborn-pastel', 'seaborn-poster', 'seaborn-talk', 'seaborn-ticks', 'seaborn-white', 'seaborn-whitegrid', 'tableau-colorblind10']\n"
     ]
    }
   ],
   "source": [
    "print(plt.style.available)\n",
    "mpl.style.use(['ggplot']) #seleccionamos el estilo \"ggplot\""
   ]
  },
  {
   "cell_type": "markdown",
   "metadata": {},
   "source": [
    "## Para el primer analisis seccionamos la tabla age, que tiene las edades de cada persona registrada en el analisis\n",
    "\n",
    "filtramos los datos age y <=50k que nos serviran para saber la edad y si esta o no con un sueldo anual inferior o igual a 50k dolares (podemos hacer esto porque el <=50k guarda 1 o 0 si se cumple la condicion)\n",
    "\n",
    "luego filtramos y separamos en 2 dataframes, quitamos la columna <=50k para que no aparezca en el grafico y presentamos los graficos de caja para compararlos."
   ]
  },
  {
   "cell_type": "code",
   "execution_count": 6,
   "metadata": {},
   "outputs": [
    {
     "name": "stderr",
     "output_type": "stream",
     "text": [
      "C:\\Users\\kende\\AppData\\Local\\Temp\\ipykernel_35128\\1417280029.py:7: SettingWithCopyWarning: \n",
      "A value is trying to be set on a copy of a slice from a DataFrame\n",
      "\n",
      "See the caveats in the documentation: https://pandas.pydata.org/pandas-docs/stable/user_guide/indexing.html#returning-a-view-versus-a-copy\n",
      "  grafico_1.drop(['<=50K'], axis=1, inplace=True)\n",
      "C:\\Users\\kende\\AppData\\Local\\Temp\\ipykernel_35128\\1417280029.py:8: SettingWithCopyWarning: \n",
      "A value is trying to be set on a copy of a slice from a DataFrame\n",
      "\n",
      "See the caveats in the documentation: https://pandas.pydata.org/pandas-docs/stable/user_guide/indexing.html#returning-a-view-versus-a-copy\n",
      "  grafico_2.drop(['<=50K'], axis=1, inplace=True)\n"
     ]
    },
    {
     "data": {
      "text/plain": [
       "Text(0, 0.5, 'Años')"
      ]
     },
     "execution_count": 6,
     "metadata": {},
     "output_type": "execute_result"
    },
    {
     "data": {
      "image/png": "[encoded data removed]",
      "text/plain": [
       "<Figure size 576x432 with 2 Axes>"
      ]
     },
     "metadata": {},
     "output_type": "display_data"
    }
   ],
   "source": [
    "encabezado = [\"age\", \"<=50K\"]\n",
    "df_content = pd.DataFrame(df, columns = encabezado)\n",
    "\n",
    "grafico_1 = df_content[df_content[\"<=50K\"] == 0]\n",
    "grafico_2 = df_content[df_content[\"<=50K\"] == 1]\n",
    "\n",
    "grafico_1.drop(['<=50K'], axis=1, inplace=True)\n",
    "grafico_2.drop(['<=50K'], axis=1, inplace=True)\n",
    "\n",
    "fig = plt.figure() # crear figura\n",
    "\n",
    "ax0 = fig.add_subplot(1, 2, 1) # agregar subgráfico 1 (1 fila, 2 columnas, primer gráfico)\n",
    "ax1 = fig.add_subplot(1, 2, 2) # agregar subgráfico 2 (1 fila, 2 columnas, segundo gráfico). Ver consejo bajo\n",
    "\n",
    "# Subgráfico 1: Gráfico de caja\n",
    "grafico_1.plot(kind='box', color='blue', vert=True, figsize=(8, 6), ax=ax0) # agregar a subgráfico 1\n",
    "ax0.set_title('Sueldo anual superior a 50K') # agregar título al gráfico\n",
    "\n",
    "\n",
    "# Subgráfico 2: Gráfico de línea\n",
    "grafico_2.plot(kind='box', color='blue', vert=True, figsize=(8, 6), ax=ax1) # agregar a subgráfico 2\n",
    "ax1.set_title ('Sueldo anual inferior a 50K')\n",
    "\n",
    "ax0.set_ylabel('Años')\n",
    "#ax1.set_xlabel('a')"
   ]
  },
  {
   "cell_type": "markdown",
   "metadata": {},
   "source": [
    "## analisis grafico 1\n",
    "podemos apreciar que el grafico 2 tiene una tendencia hacia valores de edades mas bajos, lo que podria deverse a que las personas de mayor edad tienen mas experiencia para obtener mejores sueldos.\n",
    "\n",
    "tambien podemos ver que el grafico 1 tiene un promedio mayor que el grafico 2"
   ]
  },
  {
   "cell_type": "code",
   "execution_count": 21,
   "metadata": {},
   "outputs": [
    {
     "name": "stderr",
     "output_type": "stream",
     "text": [
      "C:\\Users\\kende\\AppData\\Local\\Temp\\ipykernel_35128\\3341300642.py:7: SettingWithCopyWarning: \n",
      "A value is trying to be set on a copy of a slice from a DataFrame\n",
      "\n",
      "See the caveats in the documentation: https://pandas.pydata.org/pandas-docs/stable/user_guide/indexing.html#returning-a-view-versus-a-copy\n",
      "  grafico_1.drop(['<=50K'], axis=1, inplace=True)\n",
      "C:\\Users\\kende\\AppData\\Local\\Temp\\ipykernel_35128\\3341300642.py:8: SettingWithCopyWarning: \n",
      "A value is trying to be set on a copy of a slice from a DataFrame\n",
      "\n",
      "See the caveats in the documentation: https://pandas.pydata.org/pandas-docs/stable/user_guide/indexing.html#returning-a-view-versus-a-copy\n",
      "  grafico_2.drop(['<=50K'], axis=1, inplace=True)\n"
     ]
    },
    {
     "data": {
      "image/png": "[encoded data removed]",
      "text/plain": [
       "<Figure size 360x432 with 2 Axes>"
      ]
     },
     "metadata": {},
     "output_type": "display_data"
    }
   ],
   "source": [
    "encabezado = [\"education-num\", \"<=50K\"]\n",
    "df_content = pd.DataFrame(df, columns = encabezado)\n",
    "\n",
    "grafico_1 = df_content[df_content[\"<=50K\"] == 0]\n",
    "grafico_2 = df_content[df_content[\"<=50K\"] == 1]\n",
    "\n",
    "grafico_1.drop(['<=50K'], axis=1, inplace=True)\n",
    "grafico_2.drop(['<=50K'], axis=1, inplace=True)\n",
    "\n",
    "fig = plt.figure() # crear figura\n",
    "\n",
    "ax0 = fig.add_subplot(1, 2, 1) # agregar subgráfico 1 (1 fila, 2 columnas, primer gráfico)\n",
    "ax1 = fig.add_subplot(1, 2, 2) # agregar subgráfico 2 (1 fila, 2 columnas, segundo gráfico). Ver consejo bajo\n",
    "\n",
    "# Subgráfico 1: Gráfico de caja\n",
    "#grafico_1.plot(kind='bar', color='green', vert=True, figsize=(8, 6), ax=ax0) # agregar a subgráfico 1\n",
    "\n",
    "grafico_1.plot(kind='hist',\n",
    "figsize=(5, 6),\n",
    "ax=ax0,\n",
    "color='green',     \n",
    ")\n",
    "\n",
    "ax0.set_title('Sueldo anual superior a 50K') # agregar título al gráfico\n",
    "\n",
    "# Subgráfico 2: Gráfico de línea\n",
    "#grafico_2.plot(kind='bar', color='green', vert=True, figsize=(8, 6), ax=ax1) # agregar a subgráfico 2\n",
    "\n",
    "grafico_2.plot(kind='hist',\n",
    "figsize=(5, 6),\n",
    "ax=ax1, \n",
    "color='green',      \n",
    ")\n",
    "\n",
    "ax1.set_title ('Sueldo anual inferior a 50K')\n",
    "\n",
    "ax0.set_ylabel('Nivel educacional')\n",
    "#ax1.set_xlabel('a')\n",
    "\n",
    "plt.show()"
   ]
  },
  {
   "cell_type": "code",
   "execution_count": 25,
   "metadata": {},
   "outputs": [
    {
     "name": "stderr",
     "output_type": "stream",
     "text": [
      "C:\\Users\\kende\\AppData\\Local\\Temp\\ipykernel_35128\\4113122034.py:7: SettingWithCopyWarning: \n",
      "A value is trying to be set on a copy of a slice from a DataFrame\n",
      "\n",
      "See the caveats in the documentation: https://pandas.pydata.org/pandas-docs/stable/user_guide/indexing.html#returning-a-view-versus-a-copy\n",
      "  grafico_1.drop(['<=50K'], axis=1, inplace=True)\n",
      "C:\\Users\\kende\\AppData\\Local\\Temp\\ipykernel_35128\\4113122034.py:8: SettingWithCopyWarning: \n",
      "A value is trying to be set on a copy of a slice from a DataFrame\n",
      "\n",
      "See the caveats in the documentation: https://pandas.pydata.org/pandas-docs/stable/user_guide/indexing.html#returning-a-view-versus-a-copy\n",
      "  grafico_2.drop(['<=50K'], axis=1, inplace=True)\n"
     ]
    },
    {
     "data": {
      "image/png": "[encoded data removed]",
      "text/plain": [
       "<Figure size 360x432 with 2 Axes>"
      ]
     },
     "metadata": {},
     "output_type": "display_data"
    }
   ],
   "source": [
    "encabezado = [\"education-num\", \"<=50K\"]\n",
    "df_content = pd.DataFrame(df, columns = encabezado)\n",
    "\n",
    "grafico_1 = df_content[df_content[\"<=50K\"] == 0]\n",
    "grafico_2 = df_content[df_content[\"<=50K\"] == 1]\n",
    "\n",
    "grafico_1.drop(['<=50K'], axis=1, inplace=True)\n",
    "grafico_2.drop(['<=50K'], axis=1, inplace=True)\n",
    "\n",
    "fig = plt.figure() # crear figura\n",
    "\n",
    "ax0 = fig.add_subplot(1, 2, 1) # agregar subgráfico 1 (1 fila, 2 columnas, primer gráfico)\n",
    "ax1 = fig.add_subplot(1, 2, 2) # agregar subgráfico 2 (1 fila, 2 columnas, segundo gráfico). Ver consejo bajo\n",
    "\n",
    "# Subgráfico 1: Gráfico de caja\n",
    "#grafico_1.plot(kind='bar', color='green', vert=True, figsize=(8, 6), ax=ax0) # agregar a subgráfico 1\n",
    "\n",
    "grafico_1.plot(kind='area',\n",
    "figsize=(5, 6),\n",
    "ax=ax0,\n",
    "color='blue',     \n",
    ")\n",
    "\n",
    "ax0.set_title('Sueldo anual superior a 50K') # agregar título al gráfico\n",
    "\n",
    "# Subgráfico 2: Gráfico de línea\n",
    "#grafico_2.plot(kind='bar', color='green', vert=True, figsize=(8, 6), ax=ax1) # agregar a subgráfico 2\n",
    "\n",
    "grafico_2.plot(kind='area',\n",
    "figsize=(5, 6),\n",
    "ax=ax1, \n",
    "color='red',      \n",
    ")\n",
    "\n",
    "ax1.set_title ('Sueldo anual inferior a 50K')\n",
    "\n",
    "ax0.set_ylabel('Nivel educacional')\n",
    "#ax1.set_xlabel('a')\n",
    "\n",
    "plt.show()"
   ]
  },
  {
   "cell_type": "code",
   "execution_count": 95,
   "metadata": {},
   "outputs": [
    {
     "ename": "NameError",
     "evalue": "name 'education' is not defined",
     "output_type": "error",
     "traceback": [
      "\u001b[1;31m---------------------------------------------------------------------------\u001b[0m",
      "\u001b[1;31mNameError\u001b[0m                                 Traceback (most recent call last)",
      "\u001b[1;32mc:\\Users\\kende\\Desktop\\Python for data science\\PythonDataScience_Cource\\tarea_3\\Main\\main.ipynb Cell 16'\u001b[0m in \u001b[0;36m<cell line: 2>\u001b[1;34m()\u001b[0m\n\u001b[0;32m      <a href='vscode-notebook-cell:/c%3A/Users/kende/Desktop/Python%20for%20data%20science/PythonDataScience_Cource/tarea_3/Main/main.ipynb#ch0000015?line=0'>1</a>\u001b[0m \u001b[39m# usar el método sum() para obtener la población total por año\u001b[39;00m\n\u001b[1;32m----> <a href='vscode-notebook-cell:/c%3A/Users/kende/Desktop/Python%20for%20data%20science/PythonDataScience_Cource/tarea_3/Main/main.ipynb#ch0000015?line=1'>2</a>\u001b[0m df_total \u001b[39m=\u001b[39m pd\u001b[39m.\u001b[39mDataFrame( df[education\u001b[39m-\u001b[39mnum]\u001b[39m.\u001b[39msum(axis\u001b[39m=\u001b[39m\u001b[39m0\u001b[39m) )\n\u001b[0;32m      <a href='vscode-notebook-cell:/c%3A/Users/kende/Desktop/Python%20for%20data%20science/PythonDataScience_Cource/tarea_3/Main/main.ipynb#ch0000015?line=3'>4</a>\u001b[0m \u001b[39m# cambiar los años al tipo float (útil para la regresión más adelante)\u001b[39;00m\n\u001b[0;32m      <a href='vscode-notebook-cell:/c%3A/Users/kende/Desktop/Python%20for%20data%20science/PythonDataScience_Cource/tarea_3/Main/main.ipynb#ch0000015?line=4'>5</a>\u001b[0m df_total\u001b[39m.\u001b[39mindex \u001b[39m=\u001b[39m \u001b[39mmap\u001b[39m(\u001b[39mfloat\u001b[39m, df_total\u001b[39m.\u001b[39mindex)\n",
      "\u001b[1;31mNameError\u001b[0m: name 'education' is not defined"
     ]
    }
   ],
   "source": [
    "# usar el método sum() para obtener la población total por año\n",
    "df_total = pd.DataFrame( df['education-num'].sum(axis=0) )\n",
    "\n",
    "# cambiar los años al tipo float (útil para la regresión más adelante)\n",
    "df_total.index = map(float, df_total.index)\n",
    "\n",
    "# restablecer el índice para volver a colocarlo como una columna en el marco de datos df_total\n",
    "df_total.reset_index(inplace=True)\n",
    "\n",
    "# renonmbrar las columnas\n",
    "df_total.columns = ['age', 'education-num']\n",
    "\n",
    "# mostrar el dataframe final\n",
    "df_total.head()\n",
    "\n",
    "sns.regplot(x='age', y='education-num', data=df)"
   ]
  }
 ],
 "metadata": {
  "interpreter": {
   "hash": "ee14d129bb1c045b85a568a08c7cd272423298f19a6371d1ee25fa842997f83d"
  },
  "kernelspec": {
   "display_name": "Python 3.9.12 ('base')",
   "language": "python",
   "name": "python3"
  },
  "language_info": {
   "codemirror_mode": {
    "name": "ipython",
    "version": 3
   },
   "file_extension": ".py",
   "mimetype": "text/x-python",
   "name": "python",
   "nbconvert_exporter": "python",
   "pygments_lexer": "ipython3",
   "version": "3.9.12"
  },
  "orig_nbformat": 4
 },
 "nbformat": 4,
 "nbformat_minor": 2
}
