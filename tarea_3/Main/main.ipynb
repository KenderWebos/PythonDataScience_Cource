{
 "cells": [
  {
   "cell_type": "markdown",
   "metadata": {},
   "source": [
    "# TAREA 3 VISUALIZACION DE DATOS CON PYTHON\n",
    "\n",
    "## Introducción\n",
    "\n",
    "El objetivo es generar maneras intuitivas de visualizar los datos **importantes** de la base de datos que trabajamos anteriormente en la tarea 2, en nuestro caso es sobre analisis de ingresos anuales segun sus caracteristicas en el senso.\n",
    "\n",
    "Para este proceso tenemos la siguiente manera de visualizar los datos:\n",
    "\n",
    "- GRAFICO DE LINEA\n",
    "- GRAFICO DE AREA [APILABLE, NO APILABLE]\n",
    "- GRAFICO DE BARRA [HORIZONTAL, VERTICAL]\n",
    "- GRAFICO DE HISTOGRAMA\n",
    "- GRAFICO DE CIRCULO O TORTA\n",
    "- GRAFICO DE CAJA O CAJA Y BIGOTE\n",
    "- GRAFICO DE DISPERSION [2D]\n",
    "- GRAFICO DE BURBUJA [3D]\n",
    "- GRAFICO DE WAFFLE [NO FAIRE, TRADAJDAD]\n",
    "- GRAFICO DE NUBE DE PALABRAS [WORD_CLOUD]\n",
    "- GRAFICO DE DISPERSION (SEABORN)\n",
    "- MAPAS (FOLLIO)\n",
    "\n",
    "\n",
    "**Nota**: utilizaremos 5 maneras de representar la informacion mas importante sobre este analisis, utilizaremos las librerias **numpy**, **pandas**, **seaborn**, **matplotlib**, **openpyxl**.\n",
    "\n",
    "***"
   ]
  },
  {
   "cell_type": "markdown",
   "metadata": {},
   "source": [
    "## importamos las librerias en python"
   ]
  },
  {
   "cell_type": "code",
   "execution_count": 22,
   "metadata": {},
   "outputs": [],
   "source": [
    "%matplotlib inline\n",
    "\n",
    "import numpy as np\n",
    "import pandas as pd\n",
    "import seaborn as sns\n",
    "import matplotlib as mpl\n",
    "import matplotlib.pyplot as plt\n",
    "import openpyxl as xl"
   ]
  },
  {
   "cell_type": "markdown",
   "metadata": {},
   "source": [
    "## leemos la base de datos que previamente preparamos."
   ]
  },
  {
   "cell_type": "code",
   "execution_count": 23,
   "metadata": {},
   "outputs": [],
   "source": [
    "df = pd.read_csv('../dataframe/df_procesado.csv')"
   ]
  },
  {
   "cell_type": "markdown",
   "metadata": {},
   "source": [
    "## Usamos las funciones head tail info y describe para tener una idea general de los datos."
   ]
  },
  {
   "cell_type": "code",
   "execution_count": 26,
   "metadata": {},
   "outputs": [
    {
     "data": {
      "text/html": [
       "<div>\n",
       "<style scoped>\n",
       "    .dataframe tbody tr th:only-of-type {\n",
       "        vertical-align: middle;\n",
       "    }\n",
       "\n",
       "    .dataframe tbody tr th {\n",
       "        vertical-align: top;\n",
       "    }\n",
       "\n",
       "    .dataframe thead th {\n",
       "        text-align: right;\n",
       "    }\n",
       "</style>\n",
       "<table border=\"1\" class=\"dataframe\">\n",
       "  <thead>\n",
       "    <tr style=\"text-align: right;\">\n",
       "      <th></th>\n",
       "      <th>Unnamed: 0</th>\n",
       "      <th>age</th>\n",
       "      <th>workclass</th>\n",
       "      <th>representation-by-Census</th>\n",
       "      <th>education</th>\n",
       "      <th>education-num</th>\n",
       "      <th>marital-status</th>\n",
       "      <th>occupation</th>\n",
       "      <th>relationship</th>\n",
       "      <th>race</th>\n",
       "      <th>sex</th>\n",
       "      <th>capital-gain</th>\n",
       "      <th>capital-loss</th>\n",
       "      <th>hours-per-week</th>\n",
       "      <th>native-country</th>\n",
       "      <th>education-num-binned</th>\n",
       "      <th>&lt;=50K</th>\n",
       "      <th>&gt;50K</th>\n",
       "    </tr>\n",
       "  </thead>\n",
       "  <tbody>\n",
       "    <tr>\n",
       "      <th>0</th>\n",
       "      <td>0</td>\n",
       "      <td>39.0</td>\n",
       "      <td>State-gov</td>\n",
       "      <td>0.052210</td>\n",
       "      <td>Bachelors</td>\n",
       "      <td>13</td>\n",
       "      <td>Never-married</td>\n",
       "      <td>Adm-clerical</td>\n",
       "      <td>Not-in-family</td>\n",
       "      <td>White</td>\n",
       "      <td>Male</td>\n",
       "      <td>2174</td>\n",
       "      <td>0</td>\n",
       "      <td>40</td>\n",
       "      <td>United-States</td>\n",
       "      <td>Superior</td>\n",
       "      <td>1</td>\n",
       "      <td>0</td>\n",
       "    </tr>\n",
       "    <tr>\n",
       "      <th>1</th>\n",
       "      <td>1</td>\n",
       "      <td>50.0</td>\n",
       "      <td>Self-emp-not-inc</td>\n",
       "      <td>0.056113</td>\n",
       "      <td>Bachelors</td>\n",
       "      <td>13</td>\n",
       "      <td>Married-civ-spouse</td>\n",
       "      <td>Exec-managerial</td>\n",
       "      <td>Husband</td>\n",
       "      <td>White</td>\n",
       "      <td>Male</td>\n",
       "      <td>0</td>\n",
       "      <td>0</td>\n",
       "      <td>13</td>\n",
       "      <td>United-States</td>\n",
       "      <td>Superior</td>\n",
       "      <td>1</td>\n",
       "      <td>0</td>\n",
       "    </tr>\n",
       "    <tr>\n",
       "      <th>2</th>\n",
       "      <td>2</td>\n",
       "      <td>38.0</td>\n",
       "      <td>Private</td>\n",
       "      <td>0.145245</td>\n",
       "      <td>HS-grad</td>\n",
       "      <td>9</td>\n",
       "      <td>Divorced</td>\n",
       "      <td>Handlers-cleaners</td>\n",
       "      <td>Not-in-family</td>\n",
       "      <td>White</td>\n",
       "      <td>Male</td>\n",
       "      <td>0</td>\n",
       "      <td>0</td>\n",
       "      <td>40</td>\n",
       "      <td>United-States</td>\n",
       "      <td>Media</td>\n",
       "      <td>1</td>\n",
       "      <td>0</td>\n",
       "    </tr>\n",
       "    <tr>\n",
       "      <th>3</th>\n",
       "      <td>3</td>\n",
       "      <td>53.0</td>\n",
       "      <td>Private</td>\n",
       "      <td>0.158093</td>\n",
       "      <td>11th</td>\n",
       "      <td>7</td>\n",
       "      <td>Married-civ-spouse</td>\n",
       "      <td>Handlers-cleaners</td>\n",
       "      <td>Husband</td>\n",
       "      <td>Black</td>\n",
       "      <td>Male</td>\n",
       "      <td>0</td>\n",
       "      <td>0</td>\n",
       "      <td>40</td>\n",
       "      <td>United-States</td>\n",
       "      <td>Media</td>\n",
       "      <td>1</td>\n",
       "      <td>0</td>\n",
       "    </tr>\n",
       "    <tr>\n",
       "      <th>4</th>\n",
       "      <td>4</td>\n",
       "      <td>28.0</td>\n",
       "      <td>Private</td>\n",
       "      <td>0.227930</td>\n",
       "      <td>Bachelors</td>\n",
       "      <td>13</td>\n",
       "      <td>Married-civ-spouse</td>\n",
       "      <td>Prof-specialty</td>\n",
       "      <td>Wife</td>\n",
       "      <td>Black</td>\n",
       "      <td>Female</td>\n",
       "      <td>0</td>\n",
       "      <td>0</td>\n",
       "      <td>40</td>\n",
       "      <td>Cuba</td>\n",
       "      <td>Superior</td>\n",
       "      <td>1</td>\n",
       "      <td>0</td>\n",
       "    </tr>\n",
       "  </tbody>\n",
       "</table>\n",
       "</div>"
      ],
      "text/plain": [
       "   Unnamed: 0   age         workclass  representation-by-Census  education  \\\n",
       "0           0  39.0         State-gov                  0.052210  Bachelors   \n",
       "1           1  50.0  Self-emp-not-inc                  0.056113  Bachelors   \n",
       "2           2  38.0           Private                  0.145245    HS-grad   \n",
       "3           3  53.0           Private                  0.158093       11th   \n",
       "4           4  28.0           Private                  0.227930  Bachelors   \n",
       "\n",
       "   education-num      marital-status         occupation   relationship   race  \\\n",
       "0             13       Never-married       Adm-clerical  Not-in-family  White   \n",
       "1             13  Married-civ-spouse    Exec-managerial        Husband  White   \n",
       "2              9            Divorced  Handlers-cleaners  Not-in-family  White   \n",
       "3              7  Married-civ-spouse  Handlers-cleaners        Husband  Black   \n",
       "4             13  Married-civ-spouse     Prof-specialty           Wife  Black   \n",
       "\n",
       "      sex  capital-gain  capital-loss  hours-per-week native-country  \\\n",
       "0    Male          2174             0              40  United-States   \n",
       "1    Male             0             0              13  United-States   \n",
       "2    Male             0             0              40  United-States   \n",
       "3    Male             0             0              40  United-States   \n",
       "4  Female             0             0              40           Cuba   \n",
       "\n",
       "  education-num-binned  <=50K  >50K  \n",
       "0             Superior      1     0  \n",
       "1             Superior      1     0  \n",
       "2                Media      1     0  \n",
       "3                Media      1     0  \n",
       "4             Superior      1     0  "
      ]
     },
     "execution_count": 26,
     "metadata": {},
     "output_type": "execute_result"
    }
   ],
   "source": [
    "df.head()"
   ]
  },
  {
   "cell_type": "code",
   "execution_count": 24,
   "metadata": {},
   "outputs": [
    {
     "name": "stdout",
     "output_type": "stream",
     "text": [
      "   Unnamed: 0   age         workclass  representation-by-Census  education  \\\n",
      "0           0  39.0         State-gov                  0.052210  Bachelors   \n",
      "1           1  50.0  Self-emp-not-inc                  0.056113  Bachelors   \n",
      "2           2  38.0           Private                  0.145245    HS-grad   \n",
      "3           3  53.0           Private                  0.158093       11th   \n",
      "4           4  28.0           Private                  0.227930  Bachelors   \n",
      "\n",
      "   education-num      marital-status         occupation   relationship   race  \\\n",
      "0             13       Never-married       Adm-clerical  Not-in-family  White   \n",
      "1             13  Married-civ-spouse    Exec-managerial        Husband  White   \n",
      "2              9            Divorced  Handlers-cleaners  Not-in-family  White   \n",
      "3              7  Married-civ-spouse  Handlers-cleaners        Husband  Black   \n",
      "4             13  Married-civ-spouse     Prof-specialty           Wife  Black   \n",
      "\n",
      "      sex  capital-gain  capital-loss  hours-per-week native-country  \\\n",
      "0    Male          2174             0              40  United-States   \n",
      "1    Male             0             0              13  United-States   \n",
      "2    Male             0             0              40  United-States   \n",
      "3    Male             0             0              40  United-States   \n",
      "4  Female             0             0              40           Cuba   \n",
      "\n",
      "  education-num-binned  <=50K  >50K  \n",
      "0             Superior      1     0  \n",
      "1             Superior      1     0  \n",
      "2                Media      1     0  \n",
      "3                Media      1     0  \n",
      "4             Superior      1     0  \n",
      "       Unnamed: 0   age     workclass  representation-by-Census   education  \\\n",
      "32542       32556  27.0       Private                  0.173302  Assoc-acdm   \n",
      "32543       32557  40.0       Private                  0.103976     HS-grad   \n",
      "32544       32558  58.0       Private                  0.102317     HS-grad   \n",
      "32545       32559  22.0       Private                  0.135710     HS-grad   \n",
      "32546       32560  52.0  Self-emp-inc                  0.193929     HS-grad   \n",
      "\n",
      "       education-num      marital-status         occupation relationship  \\\n",
      "32542             12  Married-civ-spouse       Tech-support         Wife   \n",
      "32543              9  Married-civ-spouse  Machine-op-inspct      Husband   \n",
      "32544              9             Widowed       Adm-clerical    Unmarried   \n",
      "32545              9       Never-married       Adm-clerical    Own-child   \n",
      "32546              9  Married-civ-spouse    Exec-managerial         Wife   \n",
      "\n",
      "        race     sex  capital-gain  capital-loss  hours-per-week  \\\n",
      "32542  White  Female             0             0              38   \n",
      "32543  White    Male             0             0              40   \n",
      "32544  White  Female             0             0              40   \n",
      "32545  White    Male             0             0              20   \n",
      "32546  White  Female         15024             0              40   \n",
      "\n",
      "      native-country education-num-binned  <=50K  >50K  \n",
      "32542  United-States             Superior      1     0  \n",
      "32543  United-States                Media      0     1  \n",
      "32544  United-States                Media      1     0  \n",
      "32545  United-States                Media      1     0  \n",
      "32546  United-States                Media      0     1  \n",
      "<class 'pandas.core.frame.DataFrame'>\n",
      "RangeIndex: 32547 entries, 0 to 32546\n",
      "Data columns (total 18 columns):\n",
      " #   Column                    Non-Null Count  Dtype  \n",
      "---  ------                    --------------  -----  \n",
      " 0   Unnamed: 0                32547 non-null  int64  \n",
      " 1   age                       32547 non-null  float64\n",
      " 2   workclass                 32547 non-null  object \n",
      " 3   representation-by-Census  32547 non-null  float64\n",
      " 4   education                 32547 non-null  object \n",
      " 5   education-num             32547 non-null  int64  \n",
      " 6   marital-status            32547 non-null  object \n",
      " 7   occupation                32547 non-null  object \n",
      " 8   relationship              32547 non-null  object \n",
      " 9   race                      32547 non-null  object \n",
      " 10  sex                       32547 non-null  object \n",
      " 11  capital-gain              32547 non-null  int64  \n",
      " 12  capital-loss              32547 non-null  int64  \n",
      " 13  hours-per-week            32547 non-null  int64  \n",
      " 14  native-country            32547 non-null  object \n",
      " 15  education-num-binned      32547 non-null  object \n",
      " 16  <=50K                     32547 non-null  int64  \n",
      " 17  >50K                      32547 non-null  int64  \n",
      "dtypes: float64(2), int64(7), object(9)\n",
      "memory usage: 4.5+ MB\n",
      "None\n",
      "         Unnamed: 0           age  representation-by-Census  education-num  \\\n",
      "count  32547.000000  32547.000000              32547.000000   32547.000000   \n",
      "mean   16285.115034     38.581129                  0.127820      10.080868   \n",
      "std     9398.472313     13.641102                  0.071100       2.572785   \n",
      "min        0.000000     17.000000                  0.008274       1.000000   \n",
      "25%     8150.500000     28.000000                  0.079352       9.000000   \n",
      "50%    16287.000000     37.000000                  0.120127      10.000000   \n",
      "75%    24423.500000     48.000000                  0.159660      12.000000   \n",
      "max    32560.000000     90.000000                  1.000000      16.000000   \n",
      "\n",
      "       capital-gain  capital-loss  hours-per-week         <=50K          >50K  \n",
      "count  32547.000000  32547.000000    32547.000000  32547.000000  32547.000000  \n",
      "mean    1078.112391     87.341383       40.436937      0.759240      0.240760  \n",
      "std     7386.846516    403.042809       12.349497      0.427551      0.427551  \n",
      "min        0.000000      0.000000        1.000000      0.000000      0.000000  \n",
      "25%        0.000000      0.000000       40.000000      1.000000      0.000000  \n",
      "50%        0.000000      0.000000       40.000000      1.000000      0.000000  \n",
      "75%        0.000000      0.000000       45.000000      1.000000      0.000000  \n",
      "max    99999.000000   4356.000000       99.000000      1.000000      1.000000  \n"
     ]
    }
   ],
   "source": [
    "print(df.head())\n",
    "print(df.tail())\n",
    "print(df.info())\n",
    "print(df.describe())"
   ]
  },
  {
   "cell_type": "markdown",
   "metadata": {},
   "source": [
    "## Seleccionamos el estilo que queremos para lo graficos con la libreria mpl"
   ]
  },
  {
   "cell_type": "code",
   "execution_count": 25,
   "metadata": {},
   "outputs": [
    {
     "name": "stdout",
     "output_type": "stream",
     "text": [
      "['Solarize_Light2', '_classic_test_patch', '_mpl-gallery', '_mpl-gallery-nogrid', 'bmh', 'classic', 'dark_background', 'fast', 'fivethirtyeight', 'ggplot', 'grayscale', 'seaborn', 'seaborn-bright', 'seaborn-colorblind', 'seaborn-dark', 'seaborn-dark-palette', 'seaborn-darkgrid', 'seaborn-deep', 'seaborn-muted', 'seaborn-notebook', 'seaborn-paper', 'seaborn-pastel', 'seaborn-poster', 'seaborn-talk', 'seaborn-ticks', 'seaborn-white', 'seaborn-whitegrid', 'tableau-colorblind10']\n"
     ]
    }
   ],
   "source": [
    "print(plt.style.available)\n",
    "mpl.style.use(['ggplot']) #seleccionamos el estilo \"ggplot\""
   ]
  },
  {
   "cell_type": "markdown",
   "metadata": {},
   "source": [
    "## Para el primer analisis seccionamos la tabla age, que tiene las edades de cada persona registrada en el analisis\n",
    "\n",
    "filtramos los datos age y <=50k que nos serviran para saber la edad y si esta o no con un sueldo anual inferior o igual a 50k dolares (podemos hacer esto porque el <=50k guarda 1 o 0 si se cumple la condicion)\n",
    "\n",
    "luego filtramos y separamos en 2 dataframes, quitamos la columna <=50k para que no aparezca en el grafico y presentamos los graficos de caja para compararlos."
   ]
  },
  {
   "cell_type": "code",
   "execution_count": 95,
   "metadata": {},
   "outputs": [
    {
     "name": "stderr",
     "output_type": "stream",
     "text": [
      "C:\\Users\\kende\\AppData\\Local\\Temp\\ipykernel_30556\\1417280029.py:7: SettingWithCopyWarning: \n",
      "A value is trying to be set on a copy of a slice from a DataFrame\n",
      "\n",
      "See the caveats in the documentation: https://pandas.pydata.org/pandas-docs/stable/user_guide/indexing.html#returning-a-view-versus-a-copy\n",
      "  grafico_1.drop(['<=50K'], axis=1, inplace=True)\n",
      "C:\\Users\\kende\\AppData\\Local\\Temp\\ipykernel_30556\\1417280029.py:8: SettingWithCopyWarning: \n",
      "A value is trying to be set on a copy of a slice from a DataFrame\n",
      "\n",
      "See the caveats in the documentation: https://pandas.pydata.org/pandas-docs/stable/user_guide/indexing.html#returning-a-view-versus-a-copy\n",
      "  grafico_2.drop(['<=50K'], axis=1, inplace=True)\n"
     ]
    },
    {
     "data": {
      "text/plain": [
       "Text(0, 0.5, 'Años')"
      ]
     },
     "execution_count": 95,
     "metadata": {},
     "output_type": "execute_result"
    },
    {
     "data": {
      "image/png": "[encoded data removed]",
      "text/plain": [
       "<Figure size 576x432 with 2 Axes>"
      ]
     },
     "metadata": {},
     "output_type": "display_data"
    }
   ],
   "source": [
    "encabezado = [\"age\", \"<=50K\"]\n",
    "df_content = pd.DataFrame(df, columns = encabezado)\n",
    "\n",
    "grafico_1 = df_content[df_content[\"<=50K\"] == 0]\n",
    "grafico_2 = df_content[df_content[\"<=50K\"] == 1]\n",
    "\n",
    "grafico_1.drop(['<=50K'], axis=1, inplace=True)\n",
    "grafico_2.drop(['<=50K'], axis=1, inplace=True)\n",
    "\n",
    "fig = plt.figure() # crear figura\n",
    "\n",
    "ax0 = fig.add_subplot(1, 2, 1) # agregar subgráfico 1 (1 fila, 2 columnas, primer gráfico)\n",
    "ax1 = fig.add_subplot(1, 2, 2) # agregar subgráfico 2 (1 fila, 2 columnas, segundo gráfico). Ver consejo bajo\n",
    "\n",
    "# Subgráfico 1: Gráfico de caja\n",
    "grafico_1.plot(kind='box', color='blue', vert=True, figsize=(8, 6), ax=ax0) # agregar a subgráfico 1\n",
    "ax0.set_title('Sueldo anual superior a 50K') # agregar título al gráfico\n",
    "\n",
    "\n",
    "# Subgráfico 2: Gráfico de línea\n",
    "grafico_2.plot(kind='box', color='blue', vert=True, figsize=(8, 6), ax=ax1) # agregar a subgráfico 2\n",
    "ax1.set_title ('Sueldo anual inferior a 50K')\n",
    "\n",
    "ax0.set_ylabel('Años')\n",
    "#ax1.set_xlabel('a')"
   ]
  },
  {
   "cell_type": "markdown",
   "metadata": {},
   "source": [
    "## analisis grafico 1\n",
    "podemos apreciar que el grafico 2 tiene una tendencia hacia valores de edades mas bajos, lo que podria deverse a que las personas de mayor edad tienen mas experiencia para obtener mejores sueldos.\n",
    "\n",
    "tambien podemos ver que el grafico 1 tiene un promedio mayor que el grafico 2"
   ]
  },
  {
   "cell_type": "code",
   "execution_count": 96,
   "metadata": {},
   "outputs": [
    {
     "name": "stderr",
     "output_type": "stream",
     "text": [
      "C:\\Users\\kende\\AppData\\Local\\Temp\\ipykernel_30556\\78339143.py:7: SettingWithCopyWarning: \n",
      "A value is trying to be set on a copy of a slice from a DataFrame\n",
      "\n",
      "See the caveats in the documentation: https://pandas.pydata.org/pandas-docs/stable/user_guide/indexing.html#returning-a-view-versus-a-copy\n",
      "  grafico_1.drop(['<=50K'], axis=1, inplace=True)\n",
      "C:\\Users\\kende\\AppData\\Local\\Temp\\ipykernel_30556\\78339143.py:8: SettingWithCopyWarning: \n",
      "A value is trying to be set on a copy of a slice from a DataFrame\n",
      "\n",
      "See the caveats in the documentation: https://pandas.pydata.org/pandas-docs/stable/user_guide/indexing.html#returning-a-view-versus-a-copy\n",
      "  grafico_2.drop(['<=50K'], axis=1, inplace=True)\n"
     ]
    },
    {
     "ename": "TypeError",
     "evalue": "'str' object is not callable",
     "output_type": "error",
     "traceback": [
      "\u001b[1;31m---------------------------------------------------------------------------\u001b[0m",
      "\u001b[1;31mTypeError\u001b[0m                                 Traceback (most recent call last)",
      "\u001b[1;32mc:\\Users\\kende\\Desktop\\Python for data science\\PythonDataScience_Cource\\tarea_3\\Main\\main.ipynb Cell 14'\u001b[0m in \u001b[0;36m<cell line: 21>\u001b[1;34m()\u001b[0m\n\u001b[0;32m     <a href='vscode-notebook-cell:/c%3A/Users/kende/Desktop/Python%20for%20data%20science/PythonDataScience_Cource/tarea_3/Main/main.ipynb#ch0000014?line=17'>18</a>\u001b[0m plt\u001b[39m.\u001b[39mplot(grafico_2)\n\u001b[0;32m     <a href='vscode-notebook-cell:/c%3A/Users/kende/Desktop/Python%20for%20data%20science/PythonDataScience_Cource/tarea_3/Main/main.ipynb#ch0000014?line=18'>19</a>\u001b[0m plt\u001b[39m.\u001b[39mtitle(\u001b[39m\"\u001b[39m\u001b[39msuperior a 50K\u001b[39m\u001b[39m\"\u001b[39m)\n\u001b[1;32m---> <a href='vscode-notebook-cell:/c%3A/Users/kende/Desktop/Python%20for%20data%20science/PythonDataScience_Cource/tarea_3/Main/main.ipynb#ch0000014?line=20'>21</a>\u001b[0m plt\u001b[39m.\u001b[39;49msuptitle(\u001b[39m'\u001b[39;49m\u001b[39mage\u001b[39;49m\u001b[39m'\u001b[39;49m)\n",
      "\u001b[1;31mTypeError\u001b[0m: 'str' object is not callable"
     ]
    },
    {
     "data": {
      "image/png": "[encoded data removed]",
      "text/plain": [
       "<Figure size 432x288 with 2 Axes>"
      ]
     },
     "metadata": {},
     "output_type": "display_data"
    }
   ],
   "source": [
    "#print(grafico_1.plot(title = \"age\", kind = \"box\"))\n",
    "plt.subplot(1,2,1)\n",
    "\n",
    "plt.plot(grafico_1)\n",
    "plt.title(\"inferior a 50K\")\n",
    "\n",
    "plt.subplot(1,2,2)\n",
    "\n",
    "plt.plot(grafico_2)\n",
    "plt.title(\"superior a 50K\")\n",
    "\n",
    "plt.suptitle('age')\n",
    "\n",
    "#print(grafico_2.plot(title = \"age\", kind = \"box\"))"
   ]
  },
  {
   "cell_type": "code",
   "execution_count": 31,
   "metadata": {},
   "outputs": [
    {
     "ename": "KeyError",
     "evalue": "('age', '<=50K')",
     "output_type": "error",
     "traceback": [
      "\u001b[1;31m---------------------------------------------------------------------------\u001b[0m",
      "\u001b[1;31mKeyError\u001b[0m                                  Traceback (most recent call last)",
      "File \u001b[1;32md:\\Users\\kende\\anaconda3\\lib\\site-packages\\pandas\\core\\indexes\\base.py:3621\u001b[0m, in \u001b[0;36mIndex.get_loc\u001b[1;34m(self, key, method, tolerance)\u001b[0m\n\u001b[0;32m   <a href='file:///d%3A/Users/kende/anaconda3/lib/site-packages/pandas/core/indexes/base.py?line=3619'>3620</a>\u001b[0m \u001b[39mtry\u001b[39;00m:\n\u001b[1;32m-> <a href='file:///d%3A/Users/kende/anaconda3/lib/site-packages/pandas/core/indexes/base.py?line=3620'>3621</a>\u001b[0m     \u001b[39mreturn\u001b[39;00m \u001b[39mself\u001b[39;49m\u001b[39m.\u001b[39;49m_engine\u001b[39m.\u001b[39;49mget_loc(casted_key)\n\u001b[0;32m   <a href='file:///d%3A/Users/kende/anaconda3/lib/site-packages/pandas/core/indexes/base.py?line=3621'>3622</a>\u001b[0m \u001b[39mexcept\u001b[39;00m \u001b[39mKeyError\u001b[39;00m \u001b[39mas\u001b[39;00m err:\n",
      "File \u001b[1;32md:\\Users\\kende\\anaconda3\\lib\\site-packages\\pandas\\_libs\\index.pyx:136\u001b[0m, in \u001b[0;36mpandas._libs.index.IndexEngine.get_loc\u001b[1;34m()\u001b[0m\n",
      "File \u001b[1;32md:\\Users\\kende\\anaconda3\\lib\\site-packages\\pandas\\_libs\\index.pyx:163\u001b[0m, in \u001b[0;36mpandas._libs.index.IndexEngine.get_loc\u001b[1;34m()\u001b[0m\n",
      "File \u001b[1;32mpandas\\_libs\\hashtable_class_helper.pxi:5198\u001b[0m, in \u001b[0;36mpandas._libs.hashtable.PyObjectHashTable.get_item\u001b[1;34m()\u001b[0m\n",
      "File \u001b[1;32mpandas\\_libs\\hashtable_class_helper.pxi:5206\u001b[0m, in \u001b[0;36mpandas._libs.hashtable.PyObjectHashTable.get_item\u001b[1;34m()\u001b[0m\n",
      "\u001b[1;31mKeyError\u001b[0m: ('age', '<=50K')",
      "\nThe above exception was the direct cause of the following exception:\n",
      "\u001b[1;31mKeyError\u001b[0m                                  Traceback (most recent call last)",
      "\u001b[1;32mc:\\Users\\kende\\Desktop\\Python for data science\\PythonDataScience_Cource\\tarea_3\\Main\\main.ipynb Cell 12'\u001b[0m in \u001b[0;36m<cell line: 1>\u001b[1;34m()\u001b[0m\n\u001b[1;32m----> <a href='vscode-notebook-cell:/c%3A/Users/kende/Desktop/Python%20for%20data%20science/PythonDataScience_Cource/tarea_3/Main/main.ipynb#ch0000010?line=0'>1</a>\u001b[0m df_edades \u001b[39m=\u001b[39m df[\u001b[39m\"\u001b[39;49m\u001b[39mage\u001b[39;49m\u001b[39m\"\u001b[39;49m, \u001b[39m\"\u001b[39;49m\u001b[39m<=50K\u001b[39;49m\u001b[39m\"\u001b[39;49m]\n\u001b[0;32m      <a href='vscode-notebook-cell:/c%3A/Users/kende/Desktop/Python%20for%20data%20science/PythonDataScience_Cource/tarea_3/Main/main.ipynb#ch0000010?line=1'>2</a>\u001b[0m df_edades\n\u001b[0;32m      <a href='vscode-notebook-cell:/c%3A/Users/kende/Desktop/Python%20for%20data%20science/PythonDataScience_Cource/tarea_3/Main/main.ipynb#ch0000010?line=3'>4</a>\u001b[0m df_edades\u001b[39m.\u001b[39mplot()\n",
      "File \u001b[1;32md:\\Users\\kende\\anaconda3\\lib\\site-packages\\pandas\\core\\frame.py:3505\u001b[0m, in \u001b[0;36mDataFrame.__getitem__\u001b[1;34m(self, key)\u001b[0m\n\u001b[0;32m   <a href='file:///d%3A/Users/kende/anaconda3/lib/site-packages/pandas/core/frame.py?line=3502'>3503</a>\u001b[0m \u001b[39mif\u001b[39;00m \u001b[39mself\u001b[39m\u001b[39m.\u001b[39mcolumns\u001b[39m.\u001b[39mnlevels \u001b[39m>\u001b[39m \u001b[39m1\u001b[39m:\n\u001b[0;32m   <a href='file:///d%3A/Users/kende/anaconda3/lib/site-packages/pandas/core/frame.py?line=3503'>3504</a>\u001b[0m     \u001b[39mreturn\u001b[39;00m \u001b[39mself\u001b[39m\u001b[39m.\u001b[39m_getitem_multilevel(key)\n\u001b[1;32m-> <a href='file:///d%3A/Users/kende/anaconda3/lib/site-packages/pandas/core/frame.py?line=3504'>3505</a>\u001b[0m indexer \u001b[39m=\u001b[39m \u001b[39mself\u001b[39;49m\u001b[39m.\u001b[39;49mcolumns\u001b[39m.\u001b[39;49mget_loc(key)\n\u001b[0;32m   <a href='file:///d%3A/Users/kende/anaconda3/lib/site-packages/pandas/core/frame.py?line=3505'>3506</a>\u001b[0m \u001b[39mif\u001b[39;00m is_integer(indexer):\n\u001b[0;32m   <a href='file:///d%3A/Users/kende/anaconda3/lib/site-packages/pandas/core/frame.py?line=3506'>3507</a>\u001b[0m     indexer \u001b[39m=\u001b[39m [indexer]\n",
      "File \u001b[1;32md:\\Users\\kende\\anaconda3\\lib\\site-packages\\pandas\\core\\indexes\\base.py:3623\u001b[0m, in \u001b[0;36mIndex.get_loc\u001b[1;34m(self, key, method, tolerance)\u001b[0m\n\u001b[0;32m   <a href='file:///d%3A/Users/kende/anaconda3/lib/site-packages/pandas/core/indexes/base.py?line=3620'>3621</a>\u001b[0m     \u001b[39mreturn\u001b[39;00m \u001b[39mself\u001b[39m\u001b[39m.\u001b[39m_engine\u001b[39m.\u001b[39mget_loc(casted_key)\n\u001b[0;32m   <a href='file:///d%3A/Users/kende/anaconda3/lib/site-packages/pandas/core/indexes/base.py?line=3621'>3622</a>\u001b[0m \u001b[39mexcept\u001b[39;00m \u001b[39mKeyError\u001b[39;00m \u001b[39mas\u001b[39;00m err:\n\u001b[1;32m-> <a href='file:///d%3A/Users/kende/anaconda3/lib/site-packages/pandas/core/indexes/base.py?line=3622'>3623</a>\u001b[0m     \u001b[39mraise\u001b[39;00m \u001b[39mKeyError\u001b[39;00m(key) \u001b[39mfrom\u001b[39;00m \u001b[39merr\u001b[39;00m\n\u001b[0;32m   <a href='file:///d%3A/Users/kende/anaconda3/lib/site-packages/pandas/core/indexes/base.py?line=3623'>3624</a>\u001b[0m \u001b[39mexcept\u001b[39;00m \u001b[39mTypeError\u001b[39;00m:\n\u001b[0;32m   <a href='file:///d%3A/Users/kende/anaconda3/lib/site-packages/pandas/core/indexes/base.py?line=3624'>3625</a>\u001b[0m     \u001b[39m# If we have a listlike key, _check_indexing_error will raise\u001b[39;00m\n\u001b[0;32m   <a href='file:///d%3A/Users/kende/anaconda3/lib/site-packages/pandas/core/indexes/base.py?line=3625'>3626</a>\u001b[0m     \u001b[39m#  InvalidIndexError. Otherwise we fall through and re-raise\u001b[39;00m\n\u001b[0;32m   <a href='file:///d%3A/Users/kende/anaconda3/lib/site-packages/pandas/core/indexes/base.py?line=3626'>3627</a>\u001b[0m     \u001b[39m#  the TypeError.\u001b[39;00m\n\u001b[0;32m   <a href='file:///d%3A/Users/kende/anaconda3/lib/site-packages/pandas/core/indexes/base.py?line=3627'>3628</a>\u001b[0m     \u001b[39mself\u001b[39m\u001b[39m.\u001b[39m_check_indexing_error(key)\n",
      "\u001b[1;31mKeyError\u001b[0m: ('age', '<=50K')"
     ]
    }
   ],
   "source": [
    "df_edades = df[\"age\", \"<=50K\"]\n",
    "df_edades\n",
    "\n",
    "df_edades.plot()"
   ]
  }
 ],
 "metadata": {
  "interpreter": {
   "hash": "ee14d129bb1c045b85a568a08c7cd272423298f19a6371d1ee25fa842997f83d"
  },
  "kernelspec": {
   "display_name": "Python 3.9.12 ('base')",
   "language": "python",
   "name": "python3"
  },
  "language_info": {
   "codemirror_mode": {
    "name": "ipython",
    "version": 3
   },
   "file_extension": ".py",
   "mimetype": "text/x-python",
   "name": "python",
   "nbconvert_exporter": "python",
   "pygments_lexer": "ipython3",
   "version": "3.9.12"
  },
  "orig_nbformat": 4
 },
 "nbformat": 4,
 "nbformat_minor": 2
}
