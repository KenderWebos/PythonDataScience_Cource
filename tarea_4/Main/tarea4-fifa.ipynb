{
 "cells": [
  {
   "cell_type": "code",
   "execution_count": 33,
   "metadata": {},
   "outputs": [],
   "source": [
    "import numpy as np\n",
    "import pandas as pd"
   ]
  },
  {
   "cell_type": "code",
   "execution_count": 34,
   "metadata": {},
   "outputs": [],
   "source": [
    "import matplotlib.pyplot as plt\n",
    "import seaborn as sns\n",
    "%matplotlib inline "
   ]
  },
  {
   "cell_type": "markdown",
   "metadata": {},
   "source": [
    "Se carga el data set"
   ]
  },
  {
   "cell_type": "code",
   "execution_count": 35,
   "metadata": {},
   "outputs": [
    {
     "data": {
      "text/plain": [
       "18207"
      ]
     },
     "execution_count": 35,
     "metadata": {},
     "output_type": "execute_result"
    }
   ],
   "source": [
    "df = pd.read_csv('fifa_data.csv')\n",
    "len(df)"
   ]
  },
  {
   "cell_type": "markdown",
   "metadata": {},
   "source": [
    "Se elimina columna que no apotar valor al set de datos"
   ]
  },
  {
   "cell_type": "code",
   "execution_count": 36,
   "metadata": {},
   "outputs": [
    {
     "data": {
      "text/html": [
       "<div>\n",
       "<style scoped>\n",
       "    .dataframe tbody tr th:only-of-type {\n",
       "        vertical-align: middle;\n",
       "    }\n",
       "\n",
       "    .dataframe tbody tr th {\n",
       "        vertical-align: top;\n",
       "    }\n",
       "\n",
       "    .dataframe thead th {\n",
       "        text-align: right;\n",
       "    }\n",
       "</style>\n",
       "<table border=\"1\" class=\"dataframe\">\n",
       "  <thead>\n",
       "    <tr style=\"text-align: right;\">\n",
       "      <th></th>\n",
       "      <th>ID</th>\n",
       "      <th>Name</th>\n",
       "      <th>Age</th>\n",
       "      <th>Photo</th>\n",
       "      <th>Nationality</th>\n",
       "      <th>Flag</th>\n",
       "      <th>Overall</th>\n",
       "      <th>Potential</th>\n",
       "      <th>Club</th>\n",
       "      <th>Club Logo</th>\n",
       "      <th>...</th>\n",
       "      <th>Composure</th>\n",
       "      <th>Marking</th>\n",
       "      <th>StandingTackle</th>\n",
       "      <th>SlidingTackle</th>\n",
       "      <th>GKDiving</th>\n",
       "      <th>GKHandling</th>\n",
       "      <th>GKKicking</th>\n",
       "      <th>GKPositioning</th>\n",
       "      <th>GKReflexes</th>\n",
       "      <th>Release Clause</th>\n",
       "    </tr>\n",
       "  </thead>\n",
       "  <tbody>\n",
       "    <tr>\n",
       "      <th>0</th>\n",
       "      <td>158023</td>\n",
       "      <td>L. Messi</td>\n",
       "      <td>31</td>\n",
       "      <td>https://cdn.sofifa.org/players/4/19/158023.png</td>\n",
       "      <td>Argentina</td>\n",
       "      <td>https://cdn.sofifa.org/flags/52.png</td>\n",
       "      <td>94</td>\n",
       "      <td>94</td>\n",
       "      <td>FC Barcelona</td>\n",
       "      <td>https://cdn.sofifa.org/teams/2/light/241.png</td>\n",
       "      <td>...</td>\n",
       "      <td>96.0</td>\n",
       "      <td>33.0</td>\n",
       "      <td>28.0</td>\n",
       "      <td>26.0</td>\n",
       "      <td>6.0</td>\n",
       "      <td>11.0</td>\n",
       "      <td>15.0</td>\n",
       "      <td>14.0</td>\n",
       "      <td>8.0</td>\n",
       "      <td>€226.5M</td>\n",
       "    </tr>\n",
       "    <tr>\n",
       "      <th>1</th>\n",
       "      <td>20801</td>\n",
       "      <td>Cristiano Ronaldo</td>\n",
       "      <td>33</td>\n",
       "      <td>https://cdn.sofifa.org/players/4/19/20801.png</td>\n",
       "      <td>Portugal</td>\n",
       "      <td>https://cdn.sofifa.org/flags/38.png</td>\n",
       "      <td>94</td>\n",
       "      <td>94</td>\n",
       "      <td>Juventus</td>\n",
       "      <td>https://cdn.sofifa.org/teams/2/light/45.png</td>\n",
       "      <td>...</td>\n",
       "      <td>95.0</td>\n",
       "      <td>28.0</td>\n",
       "      <td>31.0</td>\n",
       "      <td>23.0</td>\n",
       "      <td>7.0</td>\n",
       "      <td>11.0</td>\n",
       "      <td>15.0</td>\n",
       "      <td>14.0</td>\n",
       "      <td>11.0</td>\n",
       "      <td>€127.1M</td>\n",
       "    </tr>\n",
       "    <tr>\n",
       "      <th>2</th>\n",
       "      <td>190871</td>\n",
       "      <td>Neymar Jr</td>\n",
       "      <td>26</td>\n",
       "      <td>https://cdn.sofifa.org/players/4/19/190871.png</td>\n",
       "      <td>Brazil</td>\n",
       "      <td>https://cdn.sofifa.org/flags/54.png</td>\n",
       "      <td>92</td>\n",
       "      <td>93</td>\n",
       "      <td>Paris Saint-Germain</td>\n",
       "      <td>https://cdn.sofifa.org/teams/2/light/73.png</td>\n",
       "      <td>...</td>\n",
       "      <td>94.0</td>\n",
       "      <td>27.0</td>\n",
       "      <td>24.0</td>\n",
       "      <td>33.0</td>\n",
       "      <td>9.0</td>\n",
       "      <td>9.0</td>\n",
       "      <td>15.0</td>\n",
       "      <td>15.0</td>\n",
       "      <td>11.0</td>\n",
       "      <td>€228.1M</td>\n",
       "    </tr>\n",
       "    <tr>\n",
       "      <th>3</th>\n",
       "      <td>193080</td>\n",
       "      <td>De Gea</td>\n",
       "      <td>27</td>\n",
       "      <td>https://cdn.sofifa.org/players/4/19/193080.png</td>\n",
       "      <td>Spain</td>\n",
       "      <td>https://cdn.sofifa.org/flags/45.png</td>\n",
       "      <td>91</td>\n",
       "      <td>93</td>\n",
       "      <td>Manchester United</td>\n",
       "      <td>https://cdn.sofifa.org/teams/2/light/11.png</td>\n",
       "      <td>...</td>\n",
       "      <td>68.0</td>\n",
       "      <td>15.0</td>\n",
       "      <td>21.0</td>\n",
       "      <td>13.0</td>\n",
       "      <td>90.0</td>\n",
       "      <td>85.0</td>\n",
       "      <td>87.0</td>\n",
       "      <td>88.0</td>\n",
       "      <td>94.0</td>\n",
       "      <td>€138.6M</td>\n",
       "    </tr>\n",
       "    <tr>\n",
       "      <th>4</th>\n",
       "      <td>192985</td>\n",
       "      <td>K. De Bruyne</td>\n",
       "      <td>27</td>\n",
       "      <td>https://cdn.sofifa.org/players/4/19/192985.png</td>\n",
       "      <td>Belgium</td>\n",
       "      <td>https://cdn.sofifa.org/flags/7.png</td>\n",
       "      <td>91</td>\n",
       "      <td>92</td>\n",
       "      <td>Manchester City</td>\n",
       "      <td>https://cdn.sofifa.org/teams/2/light/10.png</td>\n",
       "      <td>...</td>\n",
       "      <td>88.0</td>\n",
       "      <td>68.0</td>\n",
       "      <td>58.0</td>\n",
       "      <td>51.0</td>\n",
       "      <td>15.0</td>\n",
       "      <td>13.0</td>\n",
       "      <td>5.0</td>\n",
       "      <td>10.0</td>\n",
       "      <td>13.0</td>\n",
       "      <td>€196.4M</td>\n",
       "    </tr>\n",
       "  </tbody>\n",
       "</table>\n",
       "<p>5 rows × 88 columns</p>\n",
       "</div>"
      ],
      "text/plain": [
       "       ID               Name  Age  \\\n",
       "0  158023           L. Messi   31   \n",
       "1   20801  Cristiano Ronaldo   33   \n",
       "2  190871          Neymar Jr   26   \n",
       "3  193080             De Gea   27   \n",
       "4  192985       K. De Bruyne   27   \n",
       "\n",
       "                                            Photo Nationality  \\\n",
       "0  https://cdn.sofifa.org/players/4/19/158023.png   Argentina   \n",
       "1   https://cdn.sofifa.org/players/4/19/20801.png    Portugal   \n",
       "2  https://cdn.sofifa.org/players/4/19/190871.png      Brazil   \n",
       "3  https://cdn.sofifa.org/players/4/19/193080.png       Spain   \n",
       "4  https://cdn.sofifa.org/players/4/19/192985.png     Belgium   \n",
       "\n",
       "                                  Flag  Overall  Potential  \\\n",
       "0  https://cdn.sofifa.org/flags/52.png       94         94   \n",
       "1  https://cdn.sofifa.org/flags/38.png       94         94   \n",
       "2  https://cdn.sofifa.org/flags/54.png       92         93   \n",
       "3  https://cdn.sofifa.org/flags/45.png       91         93   \n",
       "4   https://cdn.sofifa.org/flags/7.png       91         92   \n",
       "\n",
       "                  Club                                     Club Logo  ...  \\\n",
       "0         FC Barcelona  https://cdn.sofifa.org/teams/2/light/241.png  ...   \n",
       "1             Juventus   https://cdn.sofifa.org/teams/2/light/45.png  ...   \n",
       "2  Paris Saint-Germain   https://cdn.sofifa.org/teams/2/light/73.png  ...   \n",
       "3    Manchester United   https://cdn.sofifa.org/teams/2/light/11.png  ...   \n",
       "4      Manchester City   https://cdn.sofifa.org/teams/2/light/10.png  ...   \n",
       "\n",
       "  Composure Marking  StandingTackle SlidingTackle  GKDiving  GKHandling  \\\n",
       "0      96.0    33.0            28.0          26.0       6.0        11.0   \n",
       "1      95.0    28.0            31.0          23.0       7.0        11.0   \n",
       "2      94.0    27.0            24.0          33.0       9.0         9.0   \n",
       "3      68.0    15.0            21.0          13.0      90.0        85.0   \n",
       "4      88.0    68.0            58.0          51.0      15.0        13.0   \n",
       "\n",
       "   GKKicking GKPositioning GKReflexes Release Clause  \n",
       "0       15.0          14.0        8.0        €226.5M  \n",
       "1       15.0          14.0       11.0        €127.1M  \n",
       "2       15.0          15.0       11.0        €228.1M  \n",
       "3       87.0          88.0       94.0        €138.6M  \n",
       "4        5.0          10.0       13.0        €196.4M  \n",
       "\n",
       "[5 rows x 88 columns]"
      ]
     },
     "execution_count": 36,
     "metadata": {},
     "output_type": "execute_result"
    }
   ],
   "source": [
    "df =df.drop(['Unnamed: 0'], axis=1)\n",
    "df.head()"
   ]
  },
  {
   "cell_type": "code",
   "execution_count": 37,
   "metadata": {},
   "outputs": [
    {
     "name": "stdout",
     "output_type": "stream",
     "text": [
      "<class 'pandas.core.frame.DataFrame'>\n",
      "RangeIndex: 18207 entries, 0 to 18206\n",
      "Data columns (total 88 columns):\n",
      " #   Column                    Non-Null Count  Dtype  \n",
      "---  ------                    --------------  -----  \n",
      " 0   ID                        18207 non-null  int64  \n",
      " 1   Name                      18207 non-null  object \n",
      " 2   Age                       18207 non-null  int64  \n",
      " 3   Photo                     18207 non-null  object \n",
      " 4   Nationality               18207 non-null  object \n",
      " 5   Flag                      18207 non-null  object \n",
      " 6   Overall                   18207 non-null  int64  \n",
      " 7   Potential                 18207 non-null  int64  \n",
      " 8   Club                      17966 non-null  object \n",
      " 9   Club Logo                 18207 non-null  object \n",
      " 10  Value                     18207 non-null  object \n",
      " 11  Wage                      18207 non-null  object \n",
      " 12  Special                   18207 non-null  int64  \n",
      " 13  Preferred Foot            18159 non-null  object \n",
      " 14  International Reputation  18159 non-null  float64\n",
      " 15  Weak Foot                 18159 non-null  float64\n",
      " 16  Skill Moves               18159 non-null  float64\n",
      " 17  Work Rate                 18159 non-null  object \n",
      " 18  Body Type                 18159 non-null  object \n",
      " 19  Real Face                 18159 non-null  object \n",
      " 20  Position                  18147 non-null  object \n",
      " 21  Jersey Number             18147 non-null  float64\n",
      " 22  Joined                    16654 non-null  object \n",
      " 23  Loaned From               1264 non-null   object \n",
      " 24  Contract Valid Until      17918 non-null  object \n",
      " 25  Height                    18159 non-null  object \n",
      " 26  Weight                    18159 non-null  object \n",
      " 27  LS                        16122 non-null  object \n",
      " 28  ST                        16122 non-null  object \n",
      " 29  RS                        16122 non-null  object \n",
      " 30  LW                        16122 non-null  object \n",
      " 31  LF                        16122 non-null  object \n",
      " 32  CF                        16122 non-null  object \n",
      " 33  RF                        16122 non-null  object \n",
      " 34  RW                        16122 non-null  object \n",
      " 35  LAM                       16122 non-null  object \n",
      " 36  CAM                       16122 non-null  object \n",
      " 37  RAM                       16122 non-null  object \n",
      " 38  LM                        16122 non-null  object \n",
      " 39  LCM                       16122 non-null  object \n",
      " 40  CM                        16122 non-null  object \n",
      " 41  RCM                       16122 non-null  object \n",
      " 42  RM                        16122 non-null  object \n",
      " 43  LWB                       16122 non-null  object \n",
      " 44  LDM                       16122 non-null  object \n",
      " 45  CDM                       16122 non-null  object \n",
      " 46  RDM                       16122 non-null  object \n",
      " 47  RWB                       16122 non-null  object \n",
      " 48  LB                        16122 non-null  object \n",
      " 49  LCB                       16122 non-null  object \n",
      " 50  CB                        16122 non-null  object \n",
      " 51  RCB                       16122 non-null  object \n",
      " 52  RB                        16122 non-null  object \n",
      " 53  Crossing                  18159 non-null  float64\n",
      " 54  Finishing                 18159 non-null  float64\n",
      " 55  HeadingAccuracy           18159 non-null  float64\n",
      " 56  ShortPassing              18159 non-null  float64\n",
      " 57  Volleys                   18159 non-null  float64\n",
      " 58  Dribbling                 18159 non-null  float64\n",
      " 59  Curve                     18159 non-null  float64\n",
      " 60  FKAccuracy                18159 non-null  float64\n",
      " 61  LongPassing               18159 non-null  float64\n",
      " 62  BallControl               18159 non-null  float64\n",
      " 63  Acceleration              18159 non-null  float64\n",
      " 64  SprintSpeed               18159 non-null  float64\n",
      " 65  Agility                   18159 non-null  float64\n",
      " 66  Reactions                 18159 non-null  float64\n",
      " 67  Balance                   18159 non-null  float64\n",
      " 68  ShotPower                 18159 non-null  float64\n",
      " 69  Jumping                   18159 non-null  float64\n",
      " 70  Stamina                   18159 non-null  float64\n",
      " 71  Strength                  18159 non-null  float64\n",
      " 72  LongShots                 18159 non-null  float64\n",
      " 73  Aggression                18159 non-null  float64\n",
      " 74  Interceptions             18159 non-null  float64\n",
      " 75  Positioning               18159 non-null  float64\n",
      " 76  Vision                    18159 non-null  float64\n",
      " 77  Penalties                 18159 non-null  float64\n",
      " 78  Composure                 18159 non-null  float64\n",
      " 79  Marking                   18159 non-null  float64\n",
      " 80  StandingTackle            18159 non-null  float64\n",
      " 81  SlidingTackle             18159 non-null  float64\n",
      " 82  GKDiving                  18159 non-null  float64\n",
      " 83  GKHandling                18159 non-null  float64\n",
      " 84  GKKicking                 18159 non-null  float64\n",
      " 85  GKPositioning             18159 non-null  float64\n",
      " 86  GKReflexes                18159 non-null  float64\n",
      " 87  Release Clause            16643 non-null  object \n",
      "dtypes: float64(38), int64(5), object(45)\n",
      "memory usage: 12.2+ MB\n",
      "None\n"
     ]
    }
   ],
   "source": [
    "print(df.info())"
   ]
  },
  {
   "cell_type": "markdown",
   "metadata": {},
   "source": [
    "Se realiza una limpieza y cambio de formato de la columna Value para poder utilizarla en los siguientes analisis"
   ]
  },
  {
   "cell_type": "code",
   "execution_count": 38,
   "metadata": {},
   "outputs": [
    {
     "data": {
      "text/plain": [
       "array(['€110.5M', '€77M', '€118.5M', '€72M', '€102M', '€93M', '€67M',\n",
       "       '€80M', '€51M', '€68M', '€76.5M', '€44M', '€60M', '€63M', '€89M',\n",
       "       '€83.5M', '€78M', '€58M', '€53.5M', '€51.5M', '€38M', '€64.5M',\n",
       "       '€27M', '€81M', '€69.5M', '€59.5M', '€62M', '€73.5M', '€59M',\n",
       "       '€46M', '€43M', '€36M', '€57M', '€24M', '€30M', '€4M', '€64M',\n",
       "       '€30.5M', '€62.5M', '€52M', '€45M', '€34M', '€46.5M', '€61M',\n",
       "       '€41.5M', '€44.5M', '€56.5M', '€53M', '€50M', '€55M', '€36.5M',\n",
       "       '€45.5M', '€43.5M', '€35M', '€39M', '€18M', '€21.5M', '€50.5M',\n",
       "       '€54M', '€40.5M', '€37.5M', '€28.5M', '€37M', '€32M', '€26M',\n",
       "       '€33M', '€38.5M', '€35.5M', '€9M', '€15.5M', '€22M', '€14M',\n",
       "       '€42.5M', '€31.5M', '€42M', '€25M', '€29.5M', '€31M', '€24.5M',\n",
       "       '€27.5M', '€29M', '€16.5M', '€23M', '€19M', '€4.2M', '€40M',\n",
       "       '€41M', '€28M', '€22.5M', '€34.5M', '€32.5M', '€20M', '€26.5M',\n",
       "       '€25.5M', '€21M', '€13M', '€17.5M', '€11.5M', '€8M', '€6M',\n",
       "       '€19.5M', '€6.5M', '€20.5M', '€23.5M', '€18.5M', '€17M', '€12.5M',\n",
       "       '€15M', '€13.5M', '€4.8M', '€3M', '€1.5M', '€16M', '€10M', '€11M',\n",
       "       '€7M', '€14.5M', '€5.5M', '€10.5M', '€4.5M', '€12M', '€0', '€9.5M',\n",
       "       '€8.5M', '€2M', '€1.7M', '€1M', '€3.6M', '€7.5M', '€3.8M', '€5M',\n",
       "       '€2.4M', '€2.9M', '€4.7M', '€4.1M', '€2.1M', '€600K', '€2.7M',\n",
       "       '€3.4M', '€2.5M', '€3.2M', '€3.1M', '€4.9M', '€4.3M', '€2.3M',\n",
       "       '€525K', '€3.9M', '€1.8M', '€2.2M', '€4.4M', '€1.6M', '€900K',\n",
       "       '€3.7M', '€3.5M', '€1.9M', '€450K', '€775K', '€650K', '€750K',\n",
       "       '€2.8M', '€1.3M', '€4.6M', '€2.6M', '€1.2M', '€375K', '€3.3M',\n",
       "       '€270K', '€950K', '€550K', '€1.1M', '€975K', '€1.4M', '€725K',\n",
       "       '€425K', '€210K', '€875K', '€675K', '€325K', '€800K', '€850K',\n",
       "       '€160K', '€120K', '€825K', '€925K', '€625K', '€240K', '€500K',\n",
       "       '€575K', '€200K', '€250K', '€700K', '€350K', '€475K', '€300K',\n",
       "       '€70K', '€140K', '€230K', '€400K', '€280K', '€100K', '€60K',\n",
       "       '€260K', '€180K', '€220K', '€50K', '€290K', '€90K', '€150K',\n",
       "       '€40K', '€130K', '€190K', '€170K', '€110K', '€30K', '€80K', '€20K',\n",
       "       '€10K'], dtype=object)"
      ]
     },
     "execution_count": 38,
     "metadata": {},
     "output_type": "execute_result"
    }
   ],
   "source": [
    "df['Value'].unique()"
   ]
  },
  {
   "cell_type": "code",
   "execution_count": 39,
   "metadata": {},
   "outputs": [],
   "source": [
    "#df['Value'] = df['Value'].astype(str).apply(lambda x: x[1:-1])\n",
    "valores = []\n",
    "for valor in df['Value']:\n",
    "    if (valor[-1:] == 'M'):\n",
    "        #print(\"-> \", valor[1:-1], \"--> \", valor)\n",
    "        #print(float(valor[1:-1])*1000000)\n",
    "        valores.append(float(valor[1:-1])*1000000)\n",
    "    elif(valor[-1:] == 'K'):\n",
    "        #print(\"-> \", valor[1:-1], \"--> \", valor)\n",
    "        #print(float(valor[1:-1])*1000)\n",
    "        valores.append(float(valor[1:-1])*1000)\n"
   ]
  },
  {
   "cell_type": "code",
   "execution_count": 40,
   "metadata": {},
   "outputs": [],
   "source": [
    "encabezado = ['Value-NUM']\n",
    "df_value_num = pd.DataFrame(valores, columns = encabezado)"
   ]
  },
  {
   "cell_type": "code",
   "execution_count": 41,
   "metadata": {},
   "outputs": [],
   "source": [
    "\n",
    "\n",
    "df['Value-NUM'] = df_value_num['Value-NUM']"
   ]
  },
  {
   "cell_type": "code",
   "execution_count": 65,
   "metadata": {},
   "outputs": [],
   "source": [
    "#df['Value'] = df['Value'].astype(str).apply(lambda x: x[1:-1])"
   ]
  },
  {
   "cell_type": "code",
   "execution_count": 67,
   "metadata": {},
   "outputs": [],
   "source": [
    "#df.replace(' ', np.nan, inplace = True)\n",
    "#df.replace('', np.nan, inplace = True)\n",
    "#df[\"Value\"].replace(np.nan, 0, inplace=True)"
   ]
  },
  {
   "cell_type": "code",
   "execution_count": 68,
   "metadata": {},
   "outputs": [],
   "source": [
    "#df['Value'] = df['Value'].astype(\"float64\")"
   ]
  },
  {
   "cell_type": "code",
   "execution_count": 42,
   "metadata": {},
   "outputs": [
    {
     "data": {
      "text/plain": [
       "array([1.105e+08, 7.700e+07, 1.185e+08, 7.200e+07, 1.020e+08, 9.300e+07,\n",
       "       6.700e+07, 8.000e+07, 5.100e+07, 6.800e+07, 7.650e+07, 4.400e+07,\n",
       "       6.000e+07, 6.300e+07, 8.900e+07, 8.350e+07, 7.800e+07, 5.800e+07,\n",
       "       5.350e+07, 5.150e+07, 3.800e+07, 6.450e+07, 2.700e+07, 8.100e+07,\n",
       "       6.950e+07, 5.950e+07, 6.200e+07, 7.350e+07, 5.900e+07, 4.600e+07,\n",
       "       4.300e+07, 3.600e+07, 5.700e+07, 2.400e+07, 3.000e+07, 4.000e+06,\n",
       "       6.400e+07, 3.050e+07, 6.250e+07, 5.200e+07, 4.500e+07, 3.400e+07,\n",
       "       4.650e+07, 6.100e+07, 4.150e+07, 4.450e+07, 5.650e+07, 5.300e+07,\n",
       "       5.000e+07, 5.500e+07, 3.650e+07, 4.550e+07, 4.350e+07, 3.500e+07,\n",
       "       3.900e+07, 1.800e+07, 2.150e+07, 5.050e+07, 5.400e+07, 4.050e+07,\n",
       "       3.750e+07, 2.850e+07, 3.700e+07, 3.200e+07, 2.600e+07, 3.300e+07,\n",
       "       3.850e+07, 3.550e+07, 9.000e+06, 1.550e+07, 2.200e+07, 1.400e+07,\n",
       "       4.250e+07, 3.150e+07, 4.200e+07, 2.500e+07, 2.950e+07, 3.100e+07,\n",
       "       2.450e+07, 2.750e+07, 2.900e+07, 1.650e+07, 2.300e+07, 1.900e+07,\n",
       "       4.200e+06, 4.000e+07, 4.100e+07, 2.800e+07, 2.250e+07, 3.450e+07,\n",
       "       3.250e+07, 2.000e+07, 2.650e+07, 2.550e+07, 2.100e+07, 1.300e+07,\n",
       "       1.750e+07, 1.150e+07, 8.000e+06, 6.000e+06, 1.950e+07, 6.500e+06,\n",
       "       2.050e+07, 2.350e+07, 1.850e+07, 1.700e+07, 1.250e+07, 1.500e+07,\n",
       "       1.350e+07, 4.800e+06, 3.000e+06, 1.500e+06, 1.600e+07, 1.000e+07,\n",
       "       1.100e+07, 7.000e+06, 1.450e+07, 5.500e+06, 1.050e+07, 4.500e+06,\n",
       "       1.200e+07, 9.500e+06, 8.500e+06, 2.000e+06, 1.700e+06, 1.000e+06,\n",
       "       3.600e+06, 7.500e+06, 3.800e+06, 5.000e+06, 2.400e+06, 2.900e+06,\n",
       "       4.700e+06, 4.100e+06, 2.100e+06, 6.000e+05, 2.700e+06, 3.400e+06,\n",
       "       2.500e+06, 3.200e+06, 3.100e+06, 4.900e+06, 4.300e+06, 2.300e+06,\n",
       "       5.250e+05, 3.900e+06, 1.800e+06, 2.200e+06, 4.400e+06, 1.600e+06,\n",
       "       9.000e+05, 3.700e+06, 3.500e+06, 1.900e+06, 4.500e+05, 7.750e+05,\n",
       "       6.500e+05, 7.500e+05, 2.800e+06, 1.300e+06, 4.600e+06, 2.600e+06,\n",
       "       1.200e+06, 3.750e+05, 3.300e+06, 2.700e+05, 9.500e+05, 5.500e+05,\n",
       "       1.100e+06, 9.750e+05, 1.400e+06, 7.250e+05, 4.250e+05, 2.100e+05,\n",
       "       8.750e+05, 6.750e+05, 3.250e+05, 8.000e+05, 8.500e+05, 1.600e+05,\n",
       "       1.200e+05, 8.250e+05, 9.250e+05, 6.250e+05, 2.400e+05, 5.000e+05,\n",
       "       5.750e+05, 2.000e+05, 2.500e+05, 7.000e+05, 3.500e+05, 4.750e+05,\n",
       "       3.000e+05, 7.000e+04, 1.400e+05, 2.300e+05, 4.000e+05, 2.800e+05,\n",
       "       1.000e+05, 6.000e+04, 2.600e+05, 1.800e+05, 2.200e+05, 5.000e+04,\n",
       "       2.900e+05, 9.000e+04, 1.500e+05, 4.000e+04, 1.300e+05, 1.900e+05,\n",
       "       1.700e+05, 1.100e+05, 3.000e+04, 8.000e+04, 2.000e+04, 1.000e+04,\n",
       "             nan])"
      ]
     },
     "execution_count": 42,
     "metadata": {},
     "output_type": "execute_result"
    }
   ],
   "source": [
    "df['Value-NUM'].unique()"
   ]
  },
  {
   "cell_type": "code",
   "execution_count": 43,
   "metadata": {},
   "outputs": [],
   "source": [
    "df.replace(' ', np.nan, inplace = True)\n",
    "df.replace('', np.nan, inplace = True)\n",
    "df[\"Value-NUM\"].replace(np.nan, 0, inplace=True)"
   ]
  },
  {
   "cell_type": "code",
   "execution_count": 44,
   "metadata": {},
   "outputs": [
    {
     "data": {
      "text/plain": [
       "array([1.105e+08, 7.700e+07, 1.185e+08, 7.200e+07, 1.020e+08, 9.300e+07,\n",
       "       6.700e+07, 8.000e+07, 5.100e+07, 6.800e+07, 7.650e+07, 4.400e+07,\n",
       "       6.000e+07, 6.300e+07, 8.900e+07, 8.350e+07, 7.800e+07, 5.800e+07,\n",
       "       5.350e+07, 5.150e+07, 3.800e+07, 6.450e+07, 2.700e+07, 8.100e+07,\n",
       "       6.950e+07, 5.950e+07, 6.200e+07, 7.350e+07, 5.900e+07, 4.600e+07,\n",
       "       4.300e+07, 3.600e+07, 5.700e+07, 2.400e+07, 3.000e+07, 4.000e+06,\n",
       "       6.400e+07, 3.050e+07, 6.250e+07, 5.200e+07, 4.500e+07, 3.400e+07,\n",
       "       4.650e+07, 6.100e+07, 4.150e+07, 4.450e+07, 5.650e+07, 5.300e+07,\n",
       "       5.000e+07, 5.500e+07, 3.650e+07, 4.550e+07, 4.350e+07, 3.500e+07,\n",
       "       3.900e+07, 1.800e+07, 2.150e+07, 5.050e+07, 5.400e+07, 4.050e+07,\n",
       "       3.750e+07, 2.850e+07, 3.700e+07, 3.200e+07, 2.600e+07, 3.300e+07,\n",
       "       3.850e+07, 3.550e+07, 9.000e+06, 1.550e+07, 2.200e+07, 1.400e+07,\n",
       "       4.250e+07, 3.150e+07, 4.200e+07, 2.500e+07, 2.950e+07, 3.100e+07,\n",
       "       2.450e+07, 2.750e+07, 2.900e+07, 1.650e+07, 2.300e+07, 1.900e+07,\n",
       "       4.200e+06, 4.000e+07, 4.100e+07, 2.800e+07, 2.250e+07, 3.450e+07,\n",
       "       3.250e+07, 2.000e+07, 2.650e+07, 2.550e+07, 2.100e+07, 1.300e+07,\n",
       "       1.750e+07, 1.150e+07, 8.000e+06, 6.000e+06, 1.950e+07, 6.500e+06,\n",
       "       2.050e+07, 2.350e+07, 1.850e+07, 1.700e+07, 1.250e+07, 1.500e+07,\n",
       "       1.350e+07, 4.800e+06, 3.000e+06, 1.500e+06, 1.600e+07, 1.000e+07,\n",
       "       1.100e+07, 7.000e+06, 1.450e+07, 5.500e+06, 1.050e+07, 4.500e+06,\n",
       "       1.200e+07, 9.500e+06, 8.500e+06, 2.000e+06, 1.700e+06, 1.000e+06,\n",
       "       3.600e+06, 7.500e+06, 3.800e+06, 5.000e+06, 2.400e+06, 2.900e+06,\n",
       "       4.700e+06, 4.100e+06, 2.100e+06, 6.000e+05, 2.700e+06, 3.400e+06,\n",
       "       2.500e+06, 3.200e+06, 3.100e+06, 4.900e+06, 4.300e+06, 2.300e+06,\n",
       "       5.250e+05, 3.900e+06, 1.800e+06, 2.200e+06, 4.400e+06, 1.600e+06,\n",
       "       9.000e+05, 3.700e+06, 3.500e+06, 1.900e+06, 4.500e+05, 7.750e+05,\n",
       "       6.500e+05, 7.500e+05, 2.800e+06, 1.300e+06, 4.600e+06, 2.600e+06,\n",
       "       1.200e+06, 3.750e+05, 3.300e+06, 2.700e+05, 9.500e+05, 5.500e+05,\n",
       "       1.100e+06, 9.750e+05, 1.400e+06, 7.250e+05, 4.250e+05, 2.100e+05,\n",
       "       8.750e+05, 6.750e+05, 3.250e+05, 8.000e+05, 8.500e+05, 1.600e+05,\n",
       "       1.200e+05, 8.250e+05, 9.250e+05, 6.250e+05, 2.400e+05, 5.000e+05,\n",
       "       5.750e+05, 2.000e+05, 2.500e+05, 7.000e+05, 3.500e+05, 4.750e+05,\n",
       "       3.000e+05, 7.000e+04, 1.400e+05, 2.300e+05, 4.000e+05, 2.800e+05,\n",
       "       1.000e+05, 6.000e+04, 2.600e+05, 1.800e+05, 2.200e+05, 5.000e+04,\n",
       "       2.900e+05, 9.000e+04, 1.500e+05, 4.000e+04, 1.300e+05, 1.900e+05,\n",
       "       1.700e+05, 1.100e+05, 3.000e+04, 8.000e+04, 2.000e+04, 1.000e+04,\n",
       "       0.000e+00])"
      ]
     },
     "execution_count": 44,
     "metadata": {},
     "output_type": "execute_result"
    }
   ],
   "source": [
    "df['Value-NUM'].unique()"
   ]
  },
  {
   "cell_type": "markdown",
   "metadata": {},
   "source": [
    "Se analiza correlacion de las columnas Potential, Overall y Value"
   ]
  },
  {
   "cell_type": "code",
   "execution_count": 45,
   "metadata": {},
   "outputs": [
    {
     "data": {
      "text/html": [
       "<div>\n",
       "<style scoped>\n",
       "    .dataframe tbody tr th:only-of-type {\n",
       "        vertical-align: middle;\n",
       "    }\n",
       "\n",
       "    .dataframe tbody tr th {\n",
       "        vertical-align: top;\n",
       "    }\n",
       "\n",
       "    .dataframe thead th {\n",
       "        text-align: right;\n",
       "    }\n",
       "</style>\n",
       "<table border=\"1\" class=\"dataframe\">\n",
       "  <thead>\n",
       "    <tr style=\"text-align: right;\">\n",
       "      <th></th>\n",
       "      <th>Potential</th>\n",
       "      <th>Overall</th>\n",
       "      <th>Value-NUM</th>\n",
       "    </tr>\n",
       "  </thead>\n",
       "  <tbody>\n",
       "    <tr>\n",
       "      <th>Potential</th>\n",
       "      <td>1.000000</td>\n",
       "      <td>0.660939</td>\n",
       "      <td>0.535379</td>\n",
       "    </tr>\n",
       "    <tr>\n",
       "      <th>Overall</th>\n",
       "      <td>0.660939</td>\n",
       "      <td>1.000000</td>\n",
       "      <td>0.630126</td>\n",
       "    </tr>\n",
       "    <tr>\n",
       "      <th>Value-NUM</th>\n",
       "      <td>0.535379</td>\n",
       "      <td>0.630126</td>\n",
       "      <td>1.000000</td>\n",
       "    </tr>\n",
       "  </tbody>\n",
       "</table>\n",
       "</div>"
      ],
      "text/plain": [
       "           Potential   Overall  Value-NUM\n",
       "Potential   1.000000  0.660939   0.535379\n",
       "Overall     0.660939  1.000000   0.630126\n",
       "Value-NUM   0.535379  0.630126   1.000000"
      ]
     },
     "execution_count": 45,
     "metadata": {},
     "output_type": "execute_result"
    }
   ],
   "source": [
    "df[['Potential', 'Overall','Value-NUM']].corr()"
   ]
  },
  {
   "cell_type": "code",
   "execution_count": 46,
   "metadata": {},
   "outputs": [
    {
     "data": {
      "text/plain": [
       "(0.0, 96.4)"
      ]
     },
     "execution_count": 46,
     "metadata": {},
     "output_type": "execute_result"
    },
    {
     "data": {
      "image/png": "[encoded data removed]",
      "text/plain": [
       "<Figure size 432x288 with 1 Axes>"
      ]
     },
     "metadata": {
      "needs_background": "light"
     },
     "output_type": "display_data"
    }
   ],
   "source": [
    "sns.regplot(x=\"Potential\", y=\"Overall\", data=df)\n",
    "plt.ylim(0,)"
   ]
  },
  {
   "cell_type": "code",
   "execution_count": 47,
   "metadata": {},
   "outputs": [
    {
     "data": {
      "text/plain": [
       "(0.0, 124844301.63367479)"
      ]
     },
     "execution_count": 47,
     "metadata": {},
     "output_type": "execute_result"
    },
    {
     "data": {
      "image/png": "[encoded data removed]",
      "text/plain": [
       "<Figure size 432x288 with 1 Axes>"
      ]
     },
     "metadata": {
      "needs_background": "light"
     },
     "output_type": "display_data"
    }
   ],
   "source": [
    "sns.regplot(x=\"Overall\", y=\"Value-NUM\", data=df)\n",
    "plt.ylim(0,)"
   ]
  },
  {
   "cell_type": "code",
   "execution_count": null,
   "metadata": {},
   "outputs": [],
   "source": []
  }
 ],
 "metadata": {
  "kernelspec": {
   "display_name": "Python 3.8.8 ('base')",
   "language": "python",
   "name": "python3"
  },
  "language_info": {
   "codemirror_mode": {
    "name": "ipython",
    "version": 3
   },
   "file_extension": ".py",
   "mimetype": "text/x-python",
   "name": "python",
   "nbconvert_exporter": "python",
   "pygments_lexer": "ipython3",
   "version": "3.8.8"
  },
  "orig_nbformat": 4,
  "vscode": {
   "interpreter": {
    "hash": "95a1c2e80f057afcd5a481c3cc5cf533e1011abe1809e08fa3f649259a6254cc"
   }
  }
 },
 "nbformat": 4,
 "nbformat_minor": 2
}
